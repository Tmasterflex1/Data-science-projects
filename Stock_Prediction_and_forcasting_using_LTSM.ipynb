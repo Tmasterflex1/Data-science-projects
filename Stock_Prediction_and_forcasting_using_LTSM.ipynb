{
  "nbformat": 4,
  "nbformat_minor": 0,
  "metadata": {
    "colab": {
      "provenance": []
    },
    "kernelspec": {
      "name": "python3",
      "display_name": "Python 3"
    },
    "language_info": {
      "name": "python"
    }
  },
  "cells": [
    {
      "cell_type": "markdown",
      "source": [
        "**Stock Market Prediction And Forcasting Using Stacked LSTM**"
      ],
      "metadata": {
        "id": "U-E4b4l45fG7"
      }
    },
    {
      "cell_type": "markdown",
      "source": [
        "In this project we will be:\n",
        "\n",
        "\n",
        "*   collect the stock data from apple (AAPL)\n",
        "*   Preprocess the data - train and test\n",
        "*   Create a Stacked LSTM model\n",
        "*   Predict the test data and plot the output\n",
        "*   Predict the future 30 days and plot the output\n",
        "\n",
        "\n"
      ],
      "metadata": {
        "id": "DKCKuoW34szg"
      }
    },
    {
      "cell_type": "code",
      "execution_count": 117,
      "metadata": {
        "id": "9qNf6bIo4ngo"
      },
      "outputs": [],
      "source": [
        "import pandas_datareader as pdr\n",
        "import requests\n",
        "import pandas as pd\n",
        "import matplotlib.pyplot as plt\n",
        "import numpy\n",
        "import numpy as np\n"
      ]
    },
    {
      "cell_type": "markdown",
      "source": [
        "Used Tiingo api"
      ],
      "metadata": {
        "id": "6GY3rOc3AGoM"
      }
    },
    {
      "cell_type": "code",
      "source": [
        "df = pdr.get_data_tiingo('AAPL', api_key=\"d9781ec95389d8096fe7072eeb2ba69737c9ee51\")"
      ],
      "metadata": {
        "colab": {
          "base_uri": "https://localhost:8080/"
        },
        "id": "Lb9lRvtM8O6D",
        "outputId": "22df16eb-ef08-4115-d124-4acaecb7ccbc"
      },
      "execution_count": 118,
      "outputs": [
        {
          "output_type": "stream",
          "name": "stderr",
          "text": [
            "<ipython-input-118-a5473252bfe3>:1: FutureWarning: In a future version of pandas all arguments of concat except for the argument 'objs' will be keyword-only.\n",
            "  df = pdr.get_data_tiingo('AAPL', api_key=\"d9781ec95389d8096fe7072eeb2ba69737c9ee51\")\n"
          ]
        }
      ]
    },
    {
      "cell_type": "code",
      "source": [
        "df.to_csv('AAPL.csv')"
      ],
      "metadata": {
        "id": "a65yEfq2_8hX"
      },
      "execution_count": 119,
      "outputs": []
    },
    {
      "cell_type": "code",
      "source": [
        "df=pd.read_csv('AAPL.csv')"
      ],
      "metadata": {
        "id": "HASnXfylAOZf"
      },
      "execution_count": 120,
      "outputs": []
    },
    {
      "cell_type": "code",
      "source": [
        "df.head()"
      ],
      "metadata": {
        "colab": {
          "base_uri": "https://localhost:8080/",
          "height": 293
        },
        "id": "Cusce484AaX3",
        "outputId": "2ff1e4a2-c521-4660-a1b2-f2b71e37ec38"
      },
      "execution_count": 121,
      "outputs": [
        {
          "output_type": "execute_result",
          "data": {
            "text/plain": [
              "  symbol                       date   close    high     low    open    volume  \\\n",
              "0   AAPL  2019-01-28 00:00:00+00:00  156.30  156.33  153.66  155.79  26192058   \n",
              "1   AAPL  2019-01-29 00:00:00+00:00  154.68  158.13  154.11  156.25  41587239   \n",
              "2   AAPL  2019-01-30 00:00:00+00:00  165.25  166.15  160.23  163.25  61109780   \n",
              "3   AAPL  2019-01-31 00:00:00+00:00  166.44  169.00  164.56  166.11  40739649   \n",
              "4   AAPL  2019-02-01 00:00:00+00:00  166.52  168.98  165.93  166.96  32668138   \n",
              "\n",
              "    adjClose    adjHigh     adjLow    adjOpen  adjVolume  divCash  splitFactor  \n",
              "0  37.503432  37.510631  36.869977  37.381060  104768232      0.0          1.0  \n",
              "1  37.114721  37.942532  36.977952  37.491435  166348956      0.0          1.0  \n",
              "2  39.650942  39.866893  38.446417  39.171051  244439120      0.0          1.0  \n",
              "3  39.936477  40.550736  39.485380  39.857295  162958596      0.0          1.0  \n",
              "4  39.955672  40.545937  39.814105  40.061248  130672552      0.0          1.0  "
            ],
            "text/html": [
              "\n",
              "  <div id=\"df-2c05d00d-b424-493f-b4c0-709cd00eff3a\" class=\"colab-df-container\">\n",
              "    <div>\n",
              "<style scoped>\n",
              "    .dataframe tbody tr th:only-of-type {\n",
              "        vertical-align: middle;\n",
              "    }\n",
              "\n",
              "    .dataframe tbody tr th {\n",
              "        vertical-align: top;\n",
              "    }\n",
              "\n",
              "    .dataframe thead th {\n",
              "        text-align: right;\n",
              "    }\n",
              "</style>\n",
              "<table border=\"1\" class=\"dataframe\">\n",
              "  <thead>\n",
              "    <tr style=\"text-align: right;\">\n",
              "      <th></th>\n",
              "      <th>symbol</th>\n",
              "      <th>date</th>\n",
              "      <th>close</th>\n",
              "      <th>high</th>\n",
              "      <th>low</th>\n",
              "      <th>open</th>\n",
              "      <th>volume</th>\n",
              "      <th>adjClose</th>\n",
              "      <th>adjHigh</th>\n",
              "      <th>adjLow</th>\n",
              "      <th>adjOpen</th>\n",
              "      <th>adjVolume</th>\n",
              "      <th>divCash</th>\n",
              "      <th>splitFactor</th>\n",
              "    </tr>\n",
              "  </thead>\n",
              "  <tbody>\n",
              "    <tr>\n",
              "      <th>0</th>\n",
              "      <td>AAPL</td>\n",
              "      <td>2019-01-28 00:00:00+00:00</td>\n",
              "      <td>156.30</td>\n",
              "      <td>156.33</td>\n",
              "      <td>153.66</td>\n",
              "      <td>155.79</td>\n",
              "      <td>26192058</td>\n",
              "      <td>37.503432</td>\n",
              "      <td>37.510631</td>\n",
              "      <td>36.869977</td>\n",
              "      <td>37.381060</td>\n",
              "      <td>104768232</td>\n",
              "      <td>0.0</td>\n",
              "      <td>1.0</td>\n",
              "    </tr>\n",
              "    <tr>\n",
              "      <th>1</th>\n",
              "      <td>AAPL</td>\n",
              "      <td>2019-01-29 00:00:00+00:00</td>\n",
              "      <td>154.68</td>\n",
              "      <td>158.13</td>\n",
              "      <td>154.11</td>\n",
              "      <td>156.25</td>\n",
              "      <td>41587239</td>\n",
              "      <td>37.114721</td>\n",
              "      <td>37.942532</td>\n",
              "      <td>36.977952</td>\n",
              "      <td>37.491435</td>\n",
              "      <td>166348956</td>\n",
              "      <td>0.0</td>\n",
              "      <td>1.0</td>\n",
              "    </tr>\n",
              "    <tr>\n",
              "      <th>2</th>\n",
              "      <td>AAPL</td>\n",
              "      <td>2019-01-30 00:00:00+00:00</td>\n",
              "      <td>165.25</td>\n",
              "      <td>166.15</td>\n",
              "      <td>160.23</td>\n",
              "      <td>163.25</td>\n",
              "      <td>61109780</td>\n",
              "      <td>39.650942</td>\n",
              "      <td>39.866893</td>\n",
              "      <td>38.446417</td>\n",
              "      <td>39.171051</td>\n",
              "      <td>244439120</td>\n",
              "      <td>0.0</td>\n",
              "      <td>1.0</td>\n",
              "    </tr>\n",
              "    <tr>\n",
              "      <th>3</th>\n",
              "      <td>AAPL</td>\n",
              "      <td>2019-01-31 00:00:00+00:00</td>\n",
              "      <td>166.44</td>\n",
              "      <td>169.00</td>\n",
              "      <td>164.56</td>\n",
              "      <td>166.11</td>\n",
              "      <td>40739649</td>\n",
              "      <td>39.936477</td>\n",
              "      <td>40.550736</td>\n",
              "      <td>39.485380</td>\n",
              "      <td>39.857295</td>\n",
              "      <td>162958596</td>\n",
              "      <td>0.0</td>\n",
              "      <td>1.0</td>\n",
              "    </tr>\n",
              "    <tr>\n",
              "      <th>4</th>\n",
              "      <td>AAPL</td>\n",
              "      <td>2019-02-01 00:00:00+00:00</td>\n",
              "      <td>166.52</td>\n",
              "      <td>168.98</td>\n",
              "      <td>165.93</td>\n",
              "      <td>166.96</td>\n",
              "      <td>32668138</td>\n",
              "      <td>39.955672</td>\n",
              "      <td>40.545937</td>\n",
              "      <td>39.814105</td>\n",
              "      <td>40.061248</td>\n",
              "      <td>130672552</td>\n",
              "      <td>0.0</td>\n",
              "      <td>1.0</td>\n",
              "    </tr>\n",
              "  </tbody>\n",
              "</table>\n",
              "</div>\n",
              "    <div class=\"colab-df-buttons\">\n",
              "\n",
              "  <div class=\"colab-df-container\">\n",
              "    <button class=\"colab-df-convert\" onclick=\"convertToInteractive('df-2c05d00d-b424-493f-b4c0-709cd00eff3a')\"\n",
              "            title=\"Convert this dataframe to an interactive table.\"\n",
              "            style=\"display:none;\">\n",
              "\n",
              "  <svg xmlns=\"http://www.w3.org/2000/svg\" height=\"24px\" viewBox=\"0 -960 960 960\">\n",
              "    <path d=\"M120-120v-720h720v720H120Zm60-500h600v-160H180v160Zm220 220h160v-160H400v160Zm0 220h160v-160H400v160ZM180-400h160v-160H180v160Zm440 0h160v-160H620v160ZM180-180h160v-160H180v160Zm440 0h160v-160H620v160Z\"/>\n",
              "  </svg>\n",
              "    </button>\n",
              "\n",
              "  <style>\n",
              "    .colab-df-container {\n",
              "      display:flex;\n",
              "      gap: 12px;\n",
              "    }\n",
              "\n",
              "    .colab-df-convert {\n",
              "      background-color: #E8F0FE;\n",
              "      border: none;\n",
              "      border-radius: 50%;\n",
              "      cursor: pointer;\n",
              "      display: none;\n",
              "      fill: #1967D2;\n",
              "      height: 32px;\n",
              "      padding: 0 0 0 0;\n",
              "      width: 32px;\n",
              "    }\n",
              "\n",
              "    .colab-df-convert:hover {\n",
              "      background-color: #E2EBFA;\n",
              "      box-shadow: 0px 1px 2px rgba(60, 64, 67, 0.3), 0px 1px 3px 1px rgba(60, 64, 67, 0.15);\n",
              "      fill: #174EA6;\n",
              "    }\n",
              "\n",
              "    .colab-df-buttons div {\n",
              "      margin-bottom: 4px;\n",
              "    }\n",
              "\n",
              "    [theme=dark] .colab-df-convert {\n",
              "      background-color: #3B4455;\n",
              "      fill: #D2E3FC;\n",
              "    }\n",
              "\n",
              "    [theme=dark] .colab-df-convert:hover {\n",
              "      background-color: #434B5C;\n",
              "      box-shadow: 0px 1px 3px 1px rgba(0, 0, 0, 0.15);\n",
              "      filter: drop-shadow(0px 1px 2px rgba(0, 0, 0, 0.3));\n",
              "      fill: #FFFFFF;\n",
              "    }\n",
              "  </style>\n",
              "\n",
              "    <script>\n",
              "      const buttonEl =\n",
              "        document.querySelector('#df-2c05d00d-b424-493f-b4c0-709cd00eff3a button.colab-df-convert');\n",
              "      buttonEl.style.display =\n",
              "        google.colab.kernel.accessAllowed ? 'block' : 'none';\n",
              "\n",
              "      async function convertToInteractive(key) {\n",
              "        const element = document.querySelector('#df-2c05d00d-b424-493f-b4c0-709cd00eff3a');\n",
              "        const dataTable =\n",
              "          await google.colab.kernel.invokeFunction('convertToInteractive',\n",
              "                                                    [key], {});\n",
              "        if (!dataTable) return;\n",
              "\n",
              "        const docLinkHtml = 'Like what you see? Visit the ' +\n",
              "          '<a target=\"_blank\" href=https://colab.research.google.com/notebooks/data_table.ipynb>data table notebook</a>'\n",
              "          + ' to learn more about interactive tables.';\n",
              "        element.innerHTML = '';\n",
              "        dataTable['output_type'] = 'display_data';\n",
              "        await google.colab.output.renderOutput(dataTable, element);\n",
              "        const docLink = document.createElement('div');\n",
              "        docLink.innerHTML = docLinkHtml;\n",
              "        element.appendChild(docLink);\n",
              "      }\n",
              "    </script>\n",
              "  </div>\n",
              "\n",
              "\n",
              "<div id=\"df-66d48a17-9587-4ff9-9470-7819140cb169\">\n",
              "  <button class=\"colab-df-quickchart\" onclick=\"quickchart('df-66d48a17-9587-4ff9-9470-7819140cb169')\"\n",
              "            title=\"Suggest charts\"\n",
              "            style=\"display:none;\">\n",
              "\n",
              "<svg xmlns=\"http://www.w3.org/2000/svg\" height=\"24px\"viewBox=\"0 0 24 24\"\n",
              "     width=\"24px\">\n",
              "    <g>\n",
              "        <path d=\"M19 3H5c-1.1 0-2 .9-2 2v14c0 1.1.9 2 2 2h14c1.1 0 2-.9 2-2V5c0-1.1-.9-2-2-2zM9 17H7v-7h2v7zm4 0h-2V7h2v10zm4 0h-2v-4h2v4z\"/>\n",
              "    </g>\n",
              "</svg>\n",
              "  </button>\n",
              "\n",
              "<style>\n",
              "  .colab-df-quickchart {\n",
              "      --bg-color: #E8F0FE;\n",
              "      --fill-color: #1967D2;\n",
              "      --hover-bg-color: #E2EBFA;\n",
              "      --hover-fill-color: #174EA6;\n",
              "      --disabled-fill-color: #AAA;\n",
              "      --disabled-bg-color: #DDD;\n",
              "  }\n",
              "\n",
              "  [theme=dark] .colab-df-quickchart {\n",
              "      --bg-color: #3B4455;\n",
              "      --fill-color: #D2E3FC;\n",
              "      --hover-bg-color: #434B5C;\n",
              "      --hover-fill-color: #FFFFFF;\n",
              "      --disabled-bg-color: #3B4455;\n",
              "      --disabled-fill-color: #666;\n",
              "  }\n",
              "\n",
              "  .colab-df-quickchart {\n",
              "    background-color: var(--bg-color);\n",
              "    border: none;\n",
              "    border-radius: 50%;\n",
              "    cursor: pointer;\n",
              "    display: none;\n",
              "    fill: var(--fill-color);\n",
              "    height: 32px;\n",
              "    padding: 0;\n",
              "    width: 32px;\n",
              "  }\n",
              "\n",
              "  .colab-df-quickchart:hover {\n",
              "    background-color: var(--hover-bg-color);\n",
              "    box-shadow: 0 1px 2px rgba(60, 64, 67, 0.3), 0 1px 3px 1px rgba(60, 64, 67, 0.15);\n",
              "    fill: var(--button-hover-fill-color);\n",
              "  }\n",
              "\n",
              "  .colab-df-quickchart-complete:disabled,\n",
              "  .colab-df-quickchart-complete:disabled:hover {\n",
              "    background-color: var(--disabled-bg-color);\n",
              "    fill: var(--disabled-fill-color);\n",
              "    box-shadow: none;\n",
              "  }\n",
              "\n",
              "  .colab-df-spinner {\n",
              "    border: 2px solid var(--fill-color);\n",
              "    border-color: transparent;\n",
              "    border-bottom-color: var(--fill-color);\n",
              "    animation:\n",
              "      spin 1s steps(1) infinite;\n",
              "  }\n",
              "\n",
              "  @keyframes spin {\n",
              "    0% {\n",
              "      border-color: transparent;\n",
              "      border-bottom-color: var(--fill-color);\n",
              "      border-left-color: var(--fill-color);\n",
              "    }\n",
              "    20% {\n",
              "      border-color: transparent;\n",
              "      border-left-color: var(--fill-color);\n",
              "      border-top-color: var(--fill-color);\n",
              "    }\n",
              "    30% {\n",
              "      border-color: transparent;\n",
              "      border-left-color: var(--fill-color);\n",
              "      border-top-color: var(--fill-color);\n",
              "      border-right-color: var(--fill-color);\n",
              "    }\n",
              "    40% {\n",
              "      border-color: transparent;\n",
              "      border-right-color: var(--fill-color);\n",
              "      border-top-color: var(--fill-color);\n",
              "    }\n",
              "    60% {\n",
              "      border-color: transparent;\n",
              "      border-right-color: var(--fill-color);\n",
              "    }\n",
              "    80% {\n",
              "      border-color: transparent;\n",
              "      border-right-color: var(--fill-color);\n",
              "      border-bottom-color: var(--fill-color);\n",
              "    }\n",
              "    90% {\n",
              "      border-color: transparent;\n",
              "      border-bottom-color: var(--fill-color);\n",
              "    }\n",
              "  }\n",
              "</style>\n",
              "\n",
              "  <script>\n",
              "    async function quickchart(key) {\n",
              "      const quickchartButtonEl =\n",
              "        document.querySelector('#' + key + ' button');\n",
              "      quickchartButtonEl.disabled = true;  // To prevent multiple clicks.\n",
              "      quickchartButtonEl.classList.add('colab-df-spinner');\n",
              "      try {\n",
              "        const charts = await google.colab.kernel.invokeFunction(\n",
              "            'suggestCharts', [key], {});\n",
              "      } catch (error) {\n",
              "        console.error('Error during call to suggestCharts:', error);\n",
              "      }\n",
              "      quickchartButtonEl.classList.remove('colab-df-spinner');\n",
              "      quickchartButtonEl.classList.add('colab-df-quickchart-complete');\n",
              "    }\n",
              "    (() => {\n",
              "      let quickchartButtonEl =\n",
              "        document.querySelector('#df-66d48a17-9587-4ff9-9470-7819140cb169 button');\n",
              "      quickchartButtonEl.style.display =\n",
              "        google.colab.kernel.accessAllowed ? 'block' : 'none';\n",
              "    })();\n",
              "  </script>\n",
              "</div>\n",
              "\n",
              "    </div>\n",
              "  </div>\n"
            ]
          },
          "metadata": {},
          "execution_count": 121
        }
      ]
    },
    {
      "cell_type": "code",
      "source": [
        "df.tail()"
      ],
      "metadata": {
        "colab": {
          "base_uri": "https://localhost:8080/",
          "height": 293
        },
        "id": "yHYBrTTGAcDd",
        "outputId": "83dfbe45-752a-4eb6-ca04-4890aeb5ecc6"
      },
      "execution_count": 122,
      "outputs": [
        {
          "output_type": "execute_result",
          "data": {
            "text/plain": [
              "     symbol                       date   close      high       low    open  \\\n",
              "1253   AAPL  2024-01-19 00:00:00+00:00  191.56  191.9500  188.8200  189.33   \n",
              "1254   AAPL  2024-01-22 00:00:00+00:00  193.89  195.3300  192.2600  192.30   \n",
              "1255   AAPL  2024-01-23 00:00:00+00:00  195.18  195.7500  193.8299  195.02   \n",
              "1256   AAPL  2024-01-24 00:00:00+00:00  194.50  196.3800  194.3400  195.42   \n",
              "1257   AAPL  2024-01-25 00:00:00+00:00  194.17  196.2675  193.1125  195.22   \n",
              "\n",
              "        volume  adjClose   adjHigh    adjLow  adjOpen  adjVolume  divCash  \\\n",
              "1253  68902985    191.56  191.9500  188.8200   189.33   68902985      0.0   \n",
              "1254  60133852    193.89  195.3300  192.2600   192.30   60133852      0.0   \n",
              "1255  42355590    195.18  195.7500  193.8299   195.02   42355590      0.0   \n",
              "1256  53463269    194.50  196.3800  194.3400   195.42   53463269      0.0   \n",
              "1257  54822126    194.17  196.2675  193.1125   195.22   54822126      0.0   \n",
              "\n",
              "      splitFactor  \n",
              "1253          1.0  \n",
              "1254          1.0  \n",
              "1255          1.0  \n",
              "1256          1.0  \n",
              "1257          1.0  "
            ],
            "text/html": [
              "\n",
              "  <div id=\"df-a2b7d471-c2be-46f1-8983-3e0857101618\" class=\"colab-df-container\">\n",
              "    <div>\n",
              "<style scoped>\n",
              "    .dataframe tbody tr th:only-of-type {\n",
              "        vertical-align: middle;\n",
              "    }\n",
              "\n",
              "    .dataframe tbody tr th {\n",
              "        vertical-align: top;\n",
              "    }\n",
              "\n",
              "    .dataframe thead th {\n",
              "        text-align: right;\n",
              "    }\n",
              "</style>\n",
              "<table border=\"1\" class=\"dataframe\">\n",
              "  <thead>\n",
              "    <tr style=\"text-align: right;\">\n",
              "      <th></th>\n",
              "      <th>symbol</th>\n",
              "      <th>date</th>\n",
              "      <th>close</th>\n",
              "      <th>high</th>\n",
              "      <th>low</th>\n",
              "      <th>open</th>\n",
              "      <th>volume</th>\n",
              "      <th>adjClose</th>\n",
              "      <th>adjHigh</th>\n",
              "      <th>adjLow</th>\n",
              "      <th>adjOpen</th>\n",
              "      <th>adjVolume</th>\n",
              "      <th>divCash</th>\n",
              "      <th>splitFactor</th>\n",
              "    </tr>\n",
              "  </thead>\n",
              "  <tbody>\n",
              "    <tr>\n",
              "      <th>1253</th>\n",
              "      <td>AAPL</td>\n",
              "      <td>2024-01-19 00:00:00+00:00</td>\n",
              "      <td>191.56</td>\n",
              "      <td>191.9500</td>\n",
              "      <td>188.8200</td>\n",
              "      <td>189.33</td>\n",
              "      <td>68902985</td>\n",
              "      <td>191.56</td>\n",
              "      <td>191.9500</td>\n",
              "      <td>188.8200</td>\n",
              "      <td>189.33</td>\n",
              "      <td>68902985</td>\n",
              "      <td>0.0</td>\n",
              "      <td>1.0</td>\n",
              "    </tr>\n",
              "    <tr>\n",
              "      <th>1254</th>\n",
              "      <td>AAPL</td>\n",
              "      <td>2024-01-22 00:00:00+00:00</td>\n",
              "      <td>193.89</td>\n",
              "      <td>195.3300</td>\n",
              "      <td>192.2600</td>\n",
              "      <td>192.30</td>\n",
              "      <td>60133852</td>\n",
              "      <td>193.89</td>\n",
              "      <td>195.3300</td>\n",
              "      <td>192.2600</td>\n",
              "      <td>192.30</td>\n",
              "      <td>60133852</td>\n",
              "      <td>0.0</td>\n",
              "      <td>1.0</td>\n",
              "    </tr>\n",
              "    <tr>\n",
              "      <th>1255</th>\n",
              "      <td>AAPL</td>\n",
              "      <td>2024-01-23 00:00:00+00:00</td>\n",
              "      <td>195.18</td>\n",
              "      <td>195.7500</td>\n",
              "      <td>193.8299</td>\n",
              "      <td>195.02</td>\n",
              "      <td>42355590</td>\n",
              "      <td>195.18</td>\n",
              "      <td>195.7500</td>\n",
              "      <td>193.8299</td>\n",
              "      <td>195.02</td>\n",
              "      <td>42355590</td>\n",
              "      <td>0.0</td>\n",
              "      <td>1.0</td>\n",
              "    </tr>\n",
              "    <tr>\n",
              "      <th>1256</th>\n",
              "      <td>AAPL</td>\n",
              "      <td>2024-01-24 00:00:00+00:00</td>\n",
              "      <td>194.50</td>\n",
              "      <td>196.3800</td>\n",
              "      <td>194.3400</td>\n",
              "      <td>195.42</td>\n",
              "      <td>53463269</td>\n",
              "      <td>194.50</td>\n",
              "      <td>196.3800</td>\n",
              "      <td>194.3400</td>\n",
              "      <td>195.42</td>\n",
              "      <td>53463269</td>\n",
              "      <td>0.0</td>\n",
              "      <td>1.0</td>\n",
              "    </tr>\n",
              "    <tr>\n",
              "      <th>1257</th>\n",
              "      <td>AAPL</td>\n",
              "      <td>2024-01-25 00:00:00+00:00</td>\n",
              "      <td>194.17</td>\n",
              "      <td>196.2675</td>\n",
              "      <td>193.1125</td>\n",
              "      <td>195.22</td>\n",
              "      <td>54822126</td>\n",
              "      <td>194.17</td>\n",
              "      <td>196.2675</td>\n",
              "      <td>193.1125</td>\n",
              "      <td>195.22</td>\n",
              "      <td>54822126</td>\n",
              "      <td>0.0</td>\n",
              "      <td>1.0</td>\n",
              "    </tr>\n",
              "  </tbody>\n",
              "</table>\n",
              "</div>\n",
              "    <div class=\"colab-df-buttons\">\n",
              "\n",
              "  <div class=\"colab-df-container\">\n",
              "    <button class=\"colab-df-convert\" onclick=\"convertToInteractive('df-a2b7d471-c2be-46f1-8983-3e0857101618')\"\n",
              "            title=\"Convert this dataframe to an interactive table.\"\n",
              "            style=\"display:none;\">\n",
              "\n",
              "  <svg xmlns=\"http://www.w3.org/2000/svg\" height=\"24px\" viewBox=\"0 -960 960 960\">\n",
              "    <path d=\"M120-120v-720h720v720H120Zm60-500h600v-160H180v160Zm220 220h160v-160H400v160Zm0 220h160v-160H400v160ZM180-400h160v-160H180v160Zm440 0h160v-160H620v160ZM180-180h160v-160H180v160Zm440 0h160v-160H620v160Z\"/>\n",
              "  </svg>\n",
              "    </button>\n",
              "\n",
              "  <style>\n",
              "    .colab-df-container {\n",
              "      display:flex;\n",
              "      gap: 12px;\n",
              "    }\n",
              "\n",
              "    .colab-df-convert {\n",
              "      background-color: #E8F0FE;\n",
              "      border: none;\n",
              "      border-radius: 50%;\n",
              "      cursor: pointer;\n",
              "      display: none;\n",
              "      fill: #1967D2;\n",
              "      height: 32px;\n",
              "      padding: 0 0 0 0;\n",
              "      width: 32px;\n",
              "    }\n",
              "\n",
              "    .colab-df-convert:hover {\n",
              "      background-color: #E2EBFA;\n",
              "      box-shadow: 0px 1px 2px rgba(60, 64, 67, 0.3), 0px 1px 3px 1px rgba(60, 64, 67, 0.15);\n",
              "      fill: #174EA6;\n",
              "    }\n",
              "\n",
              "    .colab-df-buttons div {\n",
              "      margin-bottom: 4px;\n",
              "    }\n",
              "\n",
              "    [theme=dark] .colab-df-convert {\n",
              "      background-color: #3B4455;\n",
              "      fill: #D2E3FC;\n",
              "    }\n",
              "\n",
              "    [theme=dark] .colab-df-convert:hover {\n",
              "      background-color: #434B5C;\n",
              "      box-shadow: 0px 1px 3px 1px rgba(0, 0, 0, 0.15);\n",
              "      filter: drop-shadow(0px 1px 2px rgba(0, 0, 0, 0.3));\n",
              "      fill: #FFFFFF;\n",
              "    }\n",
              "  </style>\n",
              "\n",
              "    <script>\n",
              "      const buttonEl =\n",
              "        document.querySelector('#df-a2b7d471-c2be-46f1-8983-3e0857101618 button.colab-df-convert');\n",
              "      buttonEl.style.display =\n",
              "        google.colab.kernel.accessAllowed ? 'block' : 'none';\n",
              "\n",
              "      async function convertToInteractive(key) {\n",
              "        const element = document.querySelector('#df-a2b7d471-c2be-46f1-8983-3e0857101618');\n",
              "        const dataTable =\n",
              "          await google.colab.kernel.invokeFunction('convertToInteractive',\n",
              "                                                    [key], {});\n",
              "        if (!dataTable) return;\n",
              "\n",
              "        const docLinkHtml = 'Like what you see? Visit the ' +\n",
              "          '<a target=\"_blank\" href=https://colab.research.google.com/notebooks/data_table.ipynb>data table notebook</a>'\n",
              "          + ' to learn more about interactive tables.';\n",
              "        element.innerHTML = '';\n",
              "        dataTable['output_type'] = 'display_data';\n",
              "        await google.colab.output.renderOutput(dataTable, element);\n",
              "        const docLink = document.createElement('div');\n",
              "        docLink.innerHTML = docLinkHtml;\n",
              "        element.appendChild(docLink);\n",
              "      }\n",
              "    </script>\n",
              "  </div>\n",
              "\n",
              "\n",
              "<div id=\"df-8604da8c-c815-4b77-8e70-3c7b0f594f57\">\n",
              "  <button class=\"colab-df-quickchart\" onclick=\"quickchart('df-8604da8c-c815-4b77-8e70-3c7b0f594f57')\"\n",
              "            title=\"Suggest charts\"\n",
              "            style=\"display:none;\">\n",
              "\n",
              "<svg xmlns=\"http://www.w3.org/2000/svg\" height=\"24px\"viewBox=\"0 0 24 24\"\n",
              "     width=\"24px\">\n",
              "    <g>\n",
              "        <path d=\"M19 3H5c-1.1 0-2 .9-2 2v14c0 1.1.9 2 2 2h14c1.1 0 2-.9 2-2V5c0-1.1-.9-2-2-2zM9 17H7v-7h2v7zm4 0h-2V7h2v10zm4 0h-2v-4h2v4z\"/>\n",
              "    </g>\n",
              "</svg>\n",
              "  </button>\n",
              "\n",
              "<style>\n",
              "  .colab-df-quickchart {\n",
              "      --bg-color: #E8F0FE;\n",
              "      --fill-color: #1967D2;\n",
              "      --hover-bg-color: #E2EBFA;\n",
              "      --hover-fill-color: #174EA6;\n",
              "      --disabled-fill-color: #AAA;\n",
              "      --disabled-bg-color: #DDD;\n",
              "  }\n",
              "\n",
              "  [theme=dark] .colab-df-quickchart {\n",
              "      --bg-color: #3B4455;\n",
              "      --fill-color: #D2E3FC;\n",
              "      --hover-bg-color: #434B5C;\n",
              "      --hover-fill-color: #FFFFFF;\n",
              "      --disabled-bg-color: #3B4455;\n",
              "      --disabled-fill-color: #666;\n",
              "  }\n",
              "\n",
              "  .colab-df-quickchart {\n",
              "    background-color: var(--bg-color);\n",
              "    border: none;\n",
              "    border-radius: 50%;\n",
              "    cursor: pointer;\n",
              "    display: none;\n",
              "    fill: var(--fill-color);\n",
              "    height: 32px;\n",
              "    padding: 0;\n",
              "    width: 32px;\n",
              "  }\n",
              "\n",
              "  .colab-df-quickchart:hover {\n",
              "    background-color: var(--hover-bg-color);\n",
              "    box-shadow: 0 1px 2px rgba(60, 64, 67, 0.3), 0 1px 3px 1px rgba(60, 64, 67, 0.15);\n",
              "    fill: var(--button-hover-fill-color);\n",
              "  }\n",
              "\n",
              "  .colab-df-quickchart-complete:disabled,\n",
              "  .colab-df-quickchart-complete:disabled:hover {\n",
              "    background-color: var(--disabled-bg-color);\n",
              "    fill: var(--disabled-fill-color);\n",
              "    box-shadow: none;\n",
              "  }\n",
              "\n",
              "  .colab-df-spinner {\n",
              "    border: 2px solid var(--fill-color);\n",
              "    border-color: transparent;\n",
              "    border-bottom-color: var(--fill-color);\n",
              "    animation:\n",
              "      spin 1s steps(1) infinite;\n",
              "  }\n",
              "\n",
              "  @keyframes spin {\n",
              "    0% {\n",
              "      border-color: transparent;\n",
              "      border-bottom-color: var(--fill-color);\n",
              "      border-left-color: var(--fill-color);\n",
              "    }\n",
              "    20% {\n",
              "      border-color: transparent;\n",
              "      border-left-color: var(--fill-color);\n",
              "      border-top-color: var(--fill-color);\n",
              "    }\n",
              "    30% {\n",
              "      border-color: transparent;\n",
              "      border-left-color: var(--fill-color);\n",
              "      border-top-color: var(--fill-color);\n",
              "      border-right-color: var(--fill-color);\n",
              "    }\n",
              "    40% {\n",
              "      border-color: transparent;\n",
              "      border-right-color: var(--fill-color);\n",
              "      border-top-color: var(--fill-color);\n",
              "    }\n",
              "    60% {\n",
              "      border-color: transparent;\n",
              "      border-right-color: var(--fill-color);\n",
              "    }\n",
              "    80% {\n",
              "      border-color: transparent;\n",
              "      border-right-color: var(--fill-color);\n",
              "      border-bottom-color: var(--fill-color);\n",
              "    }\n",
              "    90% {\n",
              "      border-color: transparent;\n",
              "      border-bottom-color: var(--fill-color);\n",
              "    }\n",
              "  }\n",
              "</style>\n",
              "\n",
              "  <script>\n",
              "    async function quickchart(key) {\n",
              "      const quickchartButtonEl =\n",
              "        document.querySelector('#' + key + ' button');\n",
              "      quickchartButtonEl.disabled = true;  // To prevent multiple clicks.\n",
              "      quickchartButtonEl.classList.add('colab-df-spinner');\n",
              "      try {\n",
              "        const charts = await google.colab.kernel.invokeFunction(\n",
              "            'suggestCharts', [key], {});\n",
              "      } catch (error) {\n",
              "        console.error('Error during call to suggestCharts:', error);\n",
              "      }\n",
              "      quickchartButtonEl.classList.remove('colab-df-spinner');\n",
              "      quickchartButtonEl.classList.add('colab-df-quickchart-complete');\n",
              "    }\n",
              "    (() => {\n",
              "      let quickchartButtonEl =\n",
              "        document.querySelector('#df-8604da8c-c815-4b77-8e70-3c7b0f594f57 button');\n",
              "      quickchartButtonEl.style.display =\n",
              "        google.colab.kernel.accessAllowed ? 'block' : 'none';\n",
              "    })();\n",
              "  </script>\n",
              "</div>\n",
              "\n",
              "    </div>\n",
              "  </div>\n"
            ]
          },
          "metadata": {},
          "execution_count": 122
        }
      ]
    },
    {
      "cell_type": "markdown",
      "source": [
        "We will use the close column for the prediction"
      ],
      "metadata": {
        "id": "iHjMV47iAp9O"
      }
    },
    {
      "cell_type": "code",
      "source": [
        "df1=df.reset_index()['close']"
      ],
      "metadata": {
        "id": "sPE-pLkfAlY3"
      },
      "execution_count": 123,
      "outputs": []
    },
    {
      "cell_type": "code",
      "source": [
        "df1[1228:]"
      ],
      "metadata": {
        "colab": {
          "base_uri": "https://localhost:8080/"
        },
        "id": "7iVseAZRAz-z",
        "outputId": "1cbb78fd-604f-4f89-d3ac-1e9ca5b053bc"
      },
      "execution_count": 124,
      "outputs": [
        {
          "output_type": "execute_result",
          "data": {
            "text/plain": [
              "1228    194.71\n",
              "1229    197.96\n",
              "1230    198.11\n",
              "1231    197.57\n",
              "1232    195.89\n",
              "1233    196.94\n",
              "1234    194.83\n",
              "1235    194.68\n",
              "1236    193.60\n",
              "1237    193.05\n",
              "1238    193.15\n",
              "1239    193.58\n",
              "1240    192.53\n",
              "1241    185.64\n",
              "1242    184.25\n",
              "1243    181.91\n",
              "1244    181.18\n",
              "1245    185.56\n",
              "1246    185.14\n",
              "1247    186.19\n",
              "1248    185.59\n",
              "1249    185.92\n",
              "1250    183.63\n",
              "1251    182.68\n",
              "1252    188.63\n",
              "1253    191.56\n",
              "1254    193.89\n",
              "1255    195.18\n",
              "1256    194.50\n",
              "1257    194.17\n",
              "Name: close, dtype: float64"
            ]
          },
          "metadata": {},
          "execution_count": 124
        }
      ]
    },
    {
      "cell_type": "code",
      "source": [
        "df1.shape"
      ],
      "metadata": {
        "colab": {
          "base_uri": "https://localhost:8080/"
        },
        "id": "RFgE93I1BV0c",
        "outputId": "6c041480-72f9-4d9a-9b7c-f5246bba1c2f"
      },
      "execution_count": 125,
      "outputs": [
        {
          "output_type": "execute_result",
          "data": {
            "text/plain": [
              "(1258,)"
            ]
          },
          "metadata": {},
          "execution_count": 125
        }
      ]
    },
    {
      "cell_type": "markdown",
      "source": [
        "We will plot the Apple stock using matplotlib"
      ],
      "metadata": {
        "id": "GtkBPF7KBkCx"
      }
    },
    {
      "cell_type": "code",
      "source": [
        "plt.plot(df1)"
      ],
      "metadata": {
        "colab": {
          "base_uri": "https://localhost:8080/",
          "height": 447
        },
        "id": "NN9VMZwbA1Vm",
        "outputId": "3e031a36-cfcf-40e0-c8ba-f03f08c5bb8e"
      },
      "execution_count": 126,
      "outputs": [
        {
          "output_type": "execute_result",
          "data": {
            "text/plain": [
              "[<matplotlib.lines.Line2D at 0x7ab74300d1b0>]"
            ]
          },
          "metadata": {},
          "execution_count": 126
        },
        {
          "output_type": "display_data",
          "data": {
            "text/plain": [
              "<Figure size 640x480 with 1 Axes>"
            ],
            "image/png": "[encoded data removed]"
          },
          "metadata": {}
        }
      ]
    },
    {
      "cell_type": "code",
      "source": [
        "### LTSM are sensitive to the scale of the data, so we apply MinMax scaler"
      ],
      "metadata": {
        "id": "wVqHi_WdBiDy"
      },
      "execution_count": 127,
      "outputs": []
    },
    {
      "cell_type": "code",
      "source": [
        "from sklearn.preprocessing import MinMaxScaler\n",
        "scaler=MinMaxScaler(feature_range=(0,1))\n",
        "df1=scaler.fit_transform(np.array(df1).reshape(-1,1))"
      ],
      "metadata": {
        "id": "nDQ-ea11B8xj"
      },
      "execution_count": 128,
      "outputs": []
    },
    {
      "cell_type": "code",
      "source": [
        "df1.shape\n",
        "#shows values converted in an array from zero to one"
      ],
      "metadata": {
        "colab": {
          "base_uri": "https://localhost:8080/"
        },
        "id": "vmXlvJqlCUl1",
        "outputId": "43b0baf0-ee88-4cf3-cb4a-fdef9ffd1be8"
      },
      "execution_count": 129,
      "outputs": [
        {
          "output_type": "execute_result",
          "data": {
            "text/plain": [
              "(1258, 1)"
            ]
          },
          "metadata": {},
          "execution_count": 129
        }
      ]
    },
    {
      "cell_type": "code",
      "source": [
        "#splitting dataset into train and test split\n",
        "training_size=int(len(df1)*0.65)\n",
        "test_size=len(df1)-training_size\n",
        "train_data,test_data=df1[0:training_size,:],df1[training_size:len(df1),:1]"
      ],
      "metadata": {
        "id": "vPaX8Xj_Cm7Z"
      },
      "execution_count": 130,
      "outputs": []
    },
    {
      "cell_type": "code",
      "source": [
        "training_size,test_size"
      ],
      "metadata": {
        "colab": {
          "base_uri": "https://localhost:8080/"
        },
        "id": "JuLZap6EEbfU",
        "outputId": "acf62794-5e05-479c-e172-c72823d76c81"
      },
      "execution_count": 131,
      "outputs": [
        {
          "output_type": "execute_result",
          "data": {
            "text/plain": [
              "(817, 441)"
            ]
          },
          "metadata": {},
          "execution_count": 131
        }
      ]
    },
    {
      "cell_type": "code",
      "source": [
        "#Convert an array of values into a dataset matrix\n",
        "def create_dataset(dataset, time_step=1):\n",
        "  dataX, dataY = [],[]\n",
        "  for i in range(len(dataset)-time_step -1):\n",
        "    a = dataset[i:(i + time_step),0] ###i=0, 0,1,2,3------99 100 start at first elemt to last\n",
        "    dataX.append(a)\n",
        "    dataY.append(dataset[i + time_step,0])\n",
        "  return numpy.array(dataX), numpy.array(dataY)"
      ],
      "metadata": {
        "id": "oInsq1l8Cw9t"
      },
      "execution_count": 132,
      "outputs": []
    },
    {
      "cell_type": "code",
      "source": [
        "#reshape into X=t, T+1,t+2,t+3 and Y=t+4\n",
        "time_step = 100\n",
        "X_train, y_train = create_dataset(train_data, time_step)\n",
        "X_test, ytest = create_dataset(test_data, time_step)"
      ],
      "metadata": {
        "id": "oHUmphMME3wY"
      },
      "execution_count": 133,
      "outputs": []
    },
    {
      "cell_type": "code",
      "source": [
        "print(X_train)"
      ],
      "metadata": {
        "colab": {
          "base_uri": "https://localhost:8080/"
        },
        "id": "MFxdOGFMGoCl",
        "outputId": "a6b450d0-1075-44a4-b6de-151845d450f2"
      },
      "execution_count": 134,
      "outputs": [
        {
          "output_type": "stream",
          "name": "stdout",
          "text": [
            "[[0.12388228 0.11982467 0.14629931 ... 0.21803381 0.22945523 0.2280025 ]\n",
            " [0.11982467 0.14629931 0.1492799  ... 0.22945523 0.2280025  0.23198497]\n",
            " [0.14629931 0.1492799  0.14948028 ... 0.2280025  0.23198497 0.23028178]\n",
            " ...\n",
            " [0.13668128 0.13800877 0.12515967 ... 0.1591985  0.1463995  0.14584847]\n",
            " [0.13800877 0.12515967 0.13375078 ... 0.1463995  0.14584847 0.15168441]\n",
            " [0.12515967 0.13375078 0.14642455 ... 0.14584847 0.15168441 0.15125861]]\n"
          ]
        }
      ]
    },
    {
      "cell_type": "code",
      "source": [
        "print(X_train.shape), print(y_train.shape)"
      ],
      "metadata": {
        "colab": {
          "base_uri": "https://localhost:8080/"
        },
        "id": "Za0qmHDFIWVV",
        "outputId": "18084861-ac61-4c69-a57e-ac0c5df31494"
      },
      "execution_count": 135,
      "outputs": [
        {
          "output_type": "stream",
          "name": "stdout",
          "text": [
            "(716, 100)\n",
            "(716,)\n"
          ]
        },
        {
          "output_type": "execute_result",
          "data": {
            "text/plain": [
              "(None, None)"
            ]
          },
          "metadata": {},
          "execution_count": 135
        }
      ]
    },
    {
      "cell_type": "code",
      "source": [
        "print(X_test.shape), print(ytest.shape)"
      ],
      "metadata": {
        "colab": {
          "base_uri": "https://localhost:8080/"
        },
        "id": "c0pm7eSuIum2",
        "outputId": "7b59bea1-3da5-4603-927f-3d1ed8b8dbdf"
      },
      "execution_count": 136,
      "outputs": [
        {
          "output_type": "stream",
          "name": "stdout",
          "text": [
            "(340, 100)\n",
            "(340,)\n"
          ]
        },
        {
          "output_type": "execute_result",
          "data": {
            "text/plain": [
              "(None, None)"
            ]
          },
          "metadata": {},
          "execution_count": 136
        }
      ]
    },
    {
      "cell_type": "code",
      "source": [
        "# reshape input to be [samples, time steps, features] which is required for LSTM\n",
        "X_train =X_train.reshape(X_train.shape[0],X_train.shape[1] , 1)\n",
        "X_test = X_test.reshape(X_test.shape[0],X_test.shape[1] , 1)"
      ],
      "metadata": {
        "id": "TtPePaL1JYZd"
      },
      "execution_count": 137,
      "outputs": []
    },
    {
      "cell_type": "markdown",
      "source": [
        "**Create the stacked LSTM model**"
      ],
      "metadata": {
        "id": "eIkFKEQ7MCAK"
      }
    },
    {
      "cell_type": "code",
      "source": [
        "### Create the stacked LSTM model\n",
        "from tensorflow.keras.models import Sequential\n",
        "from tensorflow.keras.layers import Dense\n",
        "from tensorflow.keras.layers import LSTM"
      ],
      "metadata": {
        "id": "1BnRxu2lJiF3"
      },
      "execution_count": 138,
      "outputs": []
    },
    {
      "cell_type": "code",
      "source": [
        "model=Sequential()\n",
        "model.add(LSTM(50,return_sequences=True,input_shape=(100,1)))\n",
        "model.add(LSTM(50,return_sequences=True))\n",
        "model.add(LSTM(50))\n",
        "model.add(Dense(1))\n",
        "model.compile(loss='mean_squared_error', optimizer='adam')"
      ],
      "metadata": {
        "id": "N1Vg5altMTZU"
      },
      "execution_count": 139,
      "outputs": []
    },
    {
      "cell_type": "code",
      "source": [
        "model.summary()"
      ],
      "metadata": {
        "colab": {
          "base_uri": "https://localhost:8080/"
        },
        "id": "z0zdm8HxNGM9",
        "outputId": "81b13a70-cda0-4d8f-921b-9f8eccc1f643"
      },
      "execution_count": 140,
      "outputs": [
        {
          "output_type": "stream",
          "name": "stdout",
          "text": [
            "Model: \"sequential_1\"\n",
            "_________________________________________________________________\n",
            " Layer (type)                Output Shape              Param #   \n",
            "=================================================================\n",
            " lstm_3 (LSTM)               (None, 100, 50)           10400     \n",
            "                                                                 \n",
            " lstm_4 (LSTM)               (None, 100, 50)           20200     \n",
            "                                                                 \n",
            " lstm_5 (LSTM)               (None, 50)                20200     \n",
            "                                                                 \n",
            " dense_1 (Dense)             (None, 1)                 51        \n",
            "                                                                 \n",
            "=================================================================\n",
            "Total params: 50851 (198.64 KB)\n",
            "Trainable params: 50851 (198.64 KB)\n",
            "Non-trainable params: 0 (0.00 Byte)\n",
            "_________________________________________________________________\n"
          ]
        }
      ]
    },
    {
      "cell_type": "code",
      "source": [
        "model.fit(X_train,y_train,validation_data=(X_test,ytest),epochs=100,batch_size=64,verbose=1)"
      ],
      "metadata": {
        "colab": {
          "base_uri": "https://localhost:8080/"
        },
        "id": "2skLi8JoNIn5",
        "outputId": "af87a5ed-2126-4676-9926-49b343340040"
      },
      "execution_count": 141,
      "outputs": [
        {
          "output_type": "stream",
          "name": "stdout",
          "text": [
            "Epoch 1/100\n",
            "12/12 [==============================] - 10s 349ms/step - loss: 0.0367 - val_loss: 6.9545e-04\n",
            "Epoch 2/100\n",
            "12/12 [==============================] - 2s 196ms/step - loss: 0.0176 - val_loss: 0.0031\n",
            "Epoch 3/100\n",
            "12/12 [==============================] - 2s 177ms/step - loss: 0.0108 - val_loss: 3.6089e-04\n",
            "Epoch 4/100\n",
            "12/12 [==============================] - 2s 174ms/step - loss: 0.0096 - val_loss: 5.7785e-04\n",
            "Epoch 5/100\n",
            "12/12 [==============================] - 2s 174ms/step - loss: 0.0083 - val_loss: 3.5822e-04\n",
            "Epoch 6/100\n",
            "12/12 [==============================] - 2s 170ms/step - loss: 0.0077 - val_loss: 0.0019\n",
            "Epoch 7/100\n",
            "12/12 [==============================] - 3s 247ms/step - loss: 0.0069 - val_loss: 2.5432e-04\n",
            "Epoch 8/100\n",
            "12/12 [==============================] - 2s 176ms/step - loss: 0.0072 - val_loss: 4.1916e-04\n",
            "Epoch 9/100\n",
            "12/12 [==============================] - 2s 175ms/step - loss: 0.0057 - val_loss: 2.1829e-04\n",
            "Epoch 10/100\n",
            "12/12 [==============================] - 2s 174ms/step - loss: 0.0049 - val_loss: 2.3002e-04\n",
            "Epoch 11/100\n",
            "12/12 [==============================] - 2s 173ms/step - loss: 0.0046 - val_loss: 4.6736e-04\n",
            "Epoch 12/100\n",
            "12/12 [==============================] - 3s 215ms/step - loss: 0.0044 - val_loss: 4.7987e-04\n",
            "Epoch 13/100\n",
            "12/12 [==============================] - 2s 193ms/step - loss: 0.0046 - val_loss: 4.4184e-04\n",
            "Epoch 14/100\n",
            "12/12 [==============================] - 2s 168ms/step - loss: 0.0040 - val_loss: 5.5684e-04\n",
            "Epoch 15/100\n",
            "12/12 [==============================] - 2s 169ms/step - loss: 0.0037 - val_loss: 4.2229e-04\n",
            "Epoch 16/100\n",
            "12/12 [==============================] - 2s 170ms/step - loss: 0.0032 - val_loss: 2.2669e-04\n",
            "Epoch 17/100\n",
            "12/12 [==============================] - 2s 169ms/step - loss: 0.0033 - val_loss: 4.2032e-04\n",
            "Epoch 18/100\n",
            "12/12 [==============================] - 3s 251ms/step - loss: 0.0032 - val_loss: 2.4997e-04\n",
            "Epoch 19/100\n",
            "12/12 [==============================] - 2s 170ms/step - loss: 0.0028 - val_loss: 2.0739e-04\n",
            "Epoch 20/100\n",
            "12/12 [==============================] - 2s 172ms/step - loss: 0.0026 - val_loss: 2.3353e-04\n",
            "Epoch 21/100\n",
            "12/12 [==============================] - 2s 173ms/step - loss: 0.0027 - val_loss: 2.0951e-04\n",
            "Epoch 22/100\n",
            "12/12 [==============================] - 3s 267ms/step - loss: 0.0029 - val_loss: 2.6561e-04\n",
            "Epoch 23/100\n",
            "12/12 [==============================] - 3s 250ms/step - loss: 0.0026 - val_loss: 4.5458e-04\n",
            "Epoch 24/100\n",
            "12/12 [==============================] - 2s 170ms/step - loss: 0.0028 - val_loss: 2.0384e-04\n",
            "Epoch 25/100\n",
            "12/12 [==============================] - 2s 171ms/step - loss: 0.0023 - val_loss: 2.1284e-04\n",
            "Epoch 26/100\n",
            "12/12 [==============================] - 3s 290ms/step - loss: 0.0023 - val_loss: 2.0480e-04\n",
            "Epoch 27/100\n",
            "12/12 [==============================] - 2s 171ms/step - loss: 0.0024 - val_loss: 2.0004e-04\n",
            "Epoch 28/100\n",
            "12/12 [==============================] - 3s 251ms/step - loss: 0.0020 - val_loss: 4.3594e-04\n",
            "Epoch 29/100\n",
            "12/12 [==============================] - 2s 171ms/step - loss: 0.0019 - val_loss: 2.6664e-04\n",
            "Epoch 30/100\n",
            "12/12 [==============================] - 2s 173ms/step - loss: 0.0027 - val_loss: 1.9663e-04\n",
            "Epoch 31/100\n",
            "12/12 [==============================] - 2s 168ms/step - loss: 0.0038 - val_loss: 8.3457e-04\n",
            "Epoch 32/100\n",
            "12/12 [==============================] - 2s 171ms/step - loss: 0.0035 - val_loss: 2.1454e-04\n",
            "Epoch 33/100\n",
            "12/12 [==============================] - 2s 196ms/step - loss: 0.0019 - val_loss: 2.3961e-04\n",
            "Epoch 34/100\n",
            "12/12 [==============================] - 3s 218ms/step - loss: 0.0020 - val_loss: 2.1071e-04\n",
            "Epoch 35/100\n",
            "12/12 [==============================] - 2s 169ms/step - loss: 0.0021 - val_loss: 3.3459e-04\n",
            "Epoch 36/100\n",
            "12/12 [==============================] - 2s 174ms/step - loss: 0.0017 - val_loss: 2.0609e-04\n",
            "Epoch 37/100\n",
            "12/12 [==============================] - 2s 171ms/step - loss: 0.0016 - val_loss: 2.8209e-04\n",
            "Epoch 38/100\n",
            "12/12 [==============================] - 2s 170ms/step - loss: 0.0016 - val_loss: 2.0121e-04\n",
            "Epoch 39/100\n",
            "12/12 [==============================] - 3s 239ms/step - loss: 0.0022 - val_loss: 2.0791e-04\n",
            "Epoch 40/100\n",
            "12/12 [==============================] - 2s 174ms/step - loss: 0.0024 - val_loss: 5.4234e-04\n",
            "Epoch 41/100\n",
            "12/12 [==============================] - 2s 171ms/step - loss: 0.0026 - val_loss: 1.8762e-04\n",
            "Epoch 42/100\n",
            "12/12 [==============================] - 2s 172ms/step - loss: 0.0019 - val_loss: 2.9169e-04\n",
            "Epoch 43/100\n",
            "12/12 [==============================] - 2s 175ms/step - loss: 0.0022 - val_loss: 2.6385e-04\n",
            "Epoch 44/100\n",
            "12/12 [==============================] - 2s 188ms/step - loss: 0.0018 - val_loss: 2.0671e-04\n",
            "Epoch 45/100\n",
            "12/12 [==============================] - 3s 232ms/step - loss: 0.0015 - val_loss: 1.9091e-04\n",
            "Epoch 46/100\n",
            "12/12 [==============================] - 2s 174ms/step - loss: 0.0017 - val_loss: 2.1138e-04\n",
            "Epoch 47/100\n",
            "12/12 [==============================] - 2s 178ms/step - loss: 0.0021 - val_loss: 4.0029e-04\n",
            "Epoch 48/100\n",
            "12/12 [==============================] - 2s 176ms/step - loss: 0.0017 - val_loss: 2.0586e-04\n",
            "Epoch 49/100\n",
            "12/12 [==============================] - 3s 291ms/step - loss: 0.0017 - val_loss: 1.9767e-04\n",
            "Epoch 50/100\n",
            "12/12 [==============================] - 3s 217ms/step - loss: 0.0016 - val_loss: 2.4263e-04\n",
            "Epoch 51/100\n",
            "12/12 [==============================] - 2s 173ms/step - loss: 0.0023 - val_loss: 1.9011e-04\n",
            "Epoch 52/100\n",
            "12/12 [==============================] - 2s 171ms/step - loss: 0.0072 - val_loss: 3.0174e-04\n",
            "Epoch 53/100\n",
            "12/12 [==============================] - 2s 172ms/step - loss: 0.0066 - val_loss: 0.0010\n",
            "Epoch 54/100\n",
            "12/12 [==============================] - 2s 169ms/step - loss: 0.0058 - val_loss: 3.5312e-04\n",
            "Epoch 55/100\n",
            "12/12 [==============================] - 3s 239ms/step - loss: 0.0046 - val_loss: 1.9079e-04\n",
            "Epoch 56/100\n",
            "12/12 [==============================] - 2s 171ms/step - loss: 0.0039 - val_loss: 1.6421e-04\n",
            "Epoch 57/100\n",
            "12/12 [==============================] - 2s 172ms/step - loss: 0.0058 - val_loss: 5.1398e-04\n",
            "Epoch 58/100\n",
            "12/12 [==============================] - 3s 214ms/step - loss: 0.0041 - val_loss: 1.5958e-04\n",
            "Epoch 59/100\n",
            "12/12 [==============================] - 2s 175ms/step - loss: 0.0035 - val_loss: 2.3840e-04\n",
            "Epoch 60/100\n",
            "12/12 [==============================] - 3s 240ms/step - loss: 0.0032 - val_loss: 1.7967e-04\n",
            "Epoch 61/100\n",
            "12/12 [==============================] - 2s 176ms/step - loss: 0.0031 - val_loss: 1.5282e-04\n",
            "Epoch 62/100\n",
            "12/12 [==============================] - 2s 171ms/step - loss: 0.0057 - val_loss: 9.9665e-04\n",
            "Epoch 63/100\n",
            "12/12 [==============================] - 2s 172ms/step - loss: 0.0036 - val_loss: 7.8001e-04\n",
            "Epoch 64/100\n",
            "12/12 [==============================] - 2s 173ms/step - loss: 0.0031 - val_loss: 2.4584e-04\n",
            "Epoch 65/100\n",
            "12/12 [==============================] - 2s 172ms/step - loss: 0.0028 - val_loss: 1.5257e-04\n",
            "Epoch 66/100\n",
            "12/12 [==============================] - 3s 248ms/step - loss: 0.0027 - val_loss: 1.6493e-04\n",
            "Epoch 67/100\n",
            "12/12 [==============================] - 2s 173ms/step - loss: 0.0025 - val_loss: 2.6640e-04\n",
            "Epoch 68/100\n",
            "12/12 [==============================] - 2s 172ms/step - loss: 0.0025 - val_loss: 1.8954e-04\n",
            "Epoch 69/100\n",
            "12/12 [==============================] - 2s 171ms/step - loss: 0.0025 - val_loss: 1.6143e-04\n",
            "Epoch 70/100\n",
            "12/12 [==============================] - 2s 172ms/step - loss: 0.0026 - val_loss: 2.8513e-04\n",
            "Epoch 71/100\n",
            "12/12 [==============================] - 3s 233ms/step - loss: 0.0025 - val_loss: 1.3694e-04\n",
            "Epoch 72/100\n",
            "12/12 [==============================] - 2s 189ms/step - loss: 0.0022 - val_loss: 1.5545e-04\n",
            "Epoch 73/100\n",
            "12/12 [==============================] - 2s 172ms/step - loss: 0.0022 - val_loss: 1.4951e-04\n",
            "Epoch 74/100\n",
            "12/12 [==============================] - 2s 170ms/step - loss: 0.0021 - val_loss: 1.4081e-04\n",
            "Epoch 75/100\n",
            "12/12 [==============================] - 2s 170ms/step - loss: 0.0022 - val_loss: 1.3895e-04\n",
            "Epoch 76/100\n",
            "12/12 [==============================] - 2s 170ms/step - loss: 0.0021 - val_loss: 1.5226e-04\n",
            "Epoch 77/100\n",
            "12/12 [==============================] - 3s 252ms/step - loss: 0.0019 - val_loss: 2.8320e-04\n",
            "Epoch 78/100\n",
            "12/12 [==============================] - 2s 172ms/step - loss: 0.0041 - val_loss: 2.3685e-04\n",
            "Epoch 79/100\n",
            "12/12 [==============================] - 2s 170ms/step - loss: 0.0023 - val_loss: 1.6301e-04\n",
            "Epoch 80/100\n",
            "12/12 [==============================] - 2s 172ms/step - loss: 0.0019 - val_loss: 1.3938e-04\n",
            "Epoch 81/100\n",
            "12/12 [==============================] - 2s 173ms/step - loss: 0.0018 - val_loss: 1.5713e-04\n",
            "Epoch 82/100\n",
            "12/12 [==============================] - 3s 226ms/step - loss: 0.0016 - val_loss: 1.3926e-04\n",
            "Epoch 83/100\n",
            "12/12 [==============================] - 2s 188ms/step - loss: 0.0015 - val_loss: 1.7981e-04\n",
            "Epoch 84/100\n",
            "12/12 [==============================] - 2s 173ms/step - loss: 0.0016 - val_loss: 2.0647e-04\n",
            "Epoch 85/100\n",
            "12/12 [==============================] - 2s 174ms/step - loss: 0.0015 - val_loss: 1.4931e-04\n",
            "Epoch 86/100\n",
            "12/12 [==============================] - 2s 177ms/step - loss: 0.0015 - val_loss: 2.2686e-04\n",
            "Epoch 87/100\n",
            "12/12 [==============================] - 2s 176ms/step - loss: 0.0014 - val_loss: 1.8956e-04\n",
            "Epoch 88/100\n",
            "12/12 [==============================] - 3s 247ms/step - loss: 0.0016 - val_loss: 1.3766e-04\n",
            "Epoch 89/100\n",
            "12/12 [==============================] - 2s 175ms/step - loss: 0.0015 - val_loss: 1.5435e-04\n",
            "Epoch 90/100\n",
            "12/12 [==============================] - 2s 176ms/step - loss: 0.0013 - val_loss: 2.3095e-04\n",
            "Epoch 91/100\n",
            "12/12 [==============================] - 2s 177ms/step - loss: 0.0013 - val_loss: 2.1536e-04\n",
            "Epoch 92/100\n",
            "12/12 [==============================] - 2s 175ms/step - loss: 0.0013 - val_loss: 1.5598e-04\n",
            "Epoch 93/100\n",
            "12/12 [==============================] - 3s 249ms/step - loss: 0.0027 - val_loss: 1.9174e-04\n",
            "Epoch 94/100\n",
            "12/12 [==============================] - 2s 173ms/step - loss: 0.0015 - val_loss: 1.6899e-04\n",
            "Epoch 95/100\n",
            "12/12 [==============================] - 2s 175ms/step - loss: 0.0010 - val_loss: 1.4132e-04\n",
            "Epoch 96/100\n",
            "12/12 [==============================] - 2s 170ms/step - loss: 0.0011 - val_loss: 1.4978e-04\n",
            "Epoch 97/100\n",
            "12/12 [==============================] - 2s 174ms/step - loss: 8.9648e-04 - val_loss: 1.7106e-04\n",
            "Epoch 98/100\n",
            "12/12 [==============================] - 2s 207ms/step - loss: 9.2192e-04 - val_loss: 1.4180e-04\n",
            "Epoch 99/100\n",
            "12/12 [==============================] - 3s 219ms/step - loss: 9.6574e-04 - val_loss: 1.4018e-04\n",
            "Epoch 100/100\n",
            "12/12 [==============================] - 2s 176ms/step - loss: 9.7017e-04 - val_loss: 1.6496e-04\n"
          ]
        },
        {
          "output_type": "execute_result",
          "data": {
            "text/plain": [
              "<keras.src.callbacks.History at 0x7ab742c9a3b0>"
            ]
          },
          "metadata": {},
          "execution_count": 141
        }
      ]
    },
    {
      "cell_type": "code",
      "source": [
        "import tensorflow as tf"
      ],
      "metadata": {
        "id": "lHRqtf70PXtE"
      },
      "execution_count": 142,
      "outputs": []
    },
    {
      "cell_type": "code",
      "source": [
        "tf.__version__"
      ],
      "metadata": {
        "colab": {
          "base_uri": "https://localhost:8080/",
          "height": 35
        },
        "id": "Maphgjwjh-Ma",
        "outputId": "a340c523-9875-43b6-c928-9beff74743ac"
      },
      "execution_count": 143,
      "outputs": [
        {
          "output_type": "execute_result",
          "data": {
            "text/plain": [
              "'2.15.0'"
            ],
            "application/vnd.google.colaboratory.intrinsic+json": {
              "type": "string"
            }
          },
          "metadata": {},
          "execution_count": 143
        }
      ]
    },
    {
      "cell_type": "code",
      "source": [
        "# Lets nowcreate the prediction and check performance metrics\n",
        "train_predict=model.predict(X_train)\n",
        "test_predict=model.predict(X_test)"
      ],
      "metadata": {
        "colab": {
          "base_uri": "https://localhost:8080/"
        },
        "id": "EVVja2ypiBwg",
        "outputId": "4d893b28-b5c5-4d65-8829-e0a96bc6448c"
      },
      "execution_count": 145,
      "outputs": [
        {
          "output_type": "stream",
          "name": "stdout",
          "text": [
            "23/23 [==============================] - 2s 86ms/step\n",
            "11/11 [==============================] - 1s 54ms/step\n"
          ]
        }
      ]
    },
    {
      "cell_type": "code",
      "source": [
        "##Transform back to original form\n",
        "train_predict=scaler.inverse_transform(train_predict)\n",
        "test_predict=scaler.inverse_transform(test_predict)"
      ],
      "metadata": {
        "id": "tKZP7CQUigOt"
      },
      "execution_count": 146,
      "outputs": []
    },
    {
      "cell_type": "code",
      "source": [
        "###Calculate RMSE performance metrics\n",
        "import math\n",
        "from sklearn.metrics import mean_squared_error\n",
        "math.sqrt(mean_squared_error(y_train,train_predict))\n",
        "# train predict id output for trained data"
      ],
      "metadata": {
        "colab": {
          "base_uri": "https://localhost:8080/"
        },
        "id": "EwnhHUAukLGL",
        "outputId": "8f246a28-6fff-4287-edbd-d480ee5fec91"
      },
      "execution_count": 148,
      "outputs": [
        {
          "output_type": "execute_result",
          "data": {
            "text/plain": [
              "218.52901792720672"
            ]
          },
          "metadata": {},
          "execution_count": 148
        }
      ]
    },
    {
      "cell_type": "code",
      "source": [
        "### test Data RSME\n",
        "math.sqrt(mean_squared_error(ytest,test_predict))"
      ],
      "metadata": {
        "colab": {
          "base_uri": "https://localhost:8080/"
        },
        "id": "XgqPwRWekZl1",
        "outputId": "dec02883-55bc-4772-9453-5731d8e5a557"
      },
      "execution_count": 149,
      "outputs": [
        {
          "output_type": "execute_result",
          "data": {
            "text/plain": [
              "165.7128344758083"
            ]
          },
          "metadata": {},
          "execution_count": 149
        }
      ]
    },
    {
      "cell_type": "markdown",
      "source": [
        "**Plotting the data**\n",
        "\n",
        "Green = predicted output based on test data\n",
        "\n",
        "Blue = Complete data set\n",
        "\n",
        "orange = training data set"
      ],
      "metadata": {
        "id": "4U_pI84nk2Ge"
      }
    },
    {
      "cell_type": "code",
      "source": [
        "#shift train predictions for plotting\n",
        "look_back=100\n",
        "trainPredictPlot = numpy.empty_like(df1)\n",
        "trainPredictPlot[:, :] = np.nan\n",
        "trainPredictPlot[look_back:len(train_predict)+look_back, :] = train_predict\n",
        "#shift test predictions for plotting\n",
        "testPredictPlot = numpy.empty_like(df1)\n",
        "testPredictPlot[:, :] = numpy.nan\n",
        "testPredictPlot[len(train_predict)+(look_back*2)+1:len(df1)-1, :] = test_predict\n",
        "#Plot baseline and predictions\n",
        "plt.plot(scaler.inverse_transform(df1))\n",
        "plt.plot(trainPredictPlot)\n",
        "plt.plot(testPredictPlot)\n",
        "plt.show()"
      ],
      "metadata": {
        "colab": {
          "base_uri": "https://localhost:8080/",
          "height": 430
        },
        "id": "h4U2oO2Xky0u",
        "outputId": "b12dc30a-6d13-4e21-a9eb-7e337684edaa"
      },
      "execution_count": 151,
      "outputs": [
        {
          "output_type": "display_data",
          "data": {
            "text/plain": [
              "<Figure size 640x480 with 1 Axes>"
            ],
            "image/png": "[encoded data removed]"
          },
          "metadata": {}
        }
      ]
    },
    {
      "cell_type": "code",
      "source": [
        "len(test_data)"
      ],
      "metadata": {
        "colab": {
          "base_uri": "https://localhost:8080/"
        },
        "id": "N4GEG6VRmKhz",
        "outputId": "61004665-b374-4388-f8e7-0043912e71ad"
      },
      "execution_count": 153,
      "outputs": [
        {
          "output_type": "execute_result",
          "data": {
            "text/plain": [
              "441"
            ]
          },
          "metadata": {},
          "execution_count": 153
        }
      ]
    },
    {
      "cell_type": "code",
      "source": [
        "#If I only want the data form the last 100 days than i will reshape the data\n",
        "x_input=test_data[341:].reshape(1,-1)\n",
        "x_input.shape"
      ],
      "metadata": {
        "colab": {
          "base_uri": "https://localhost:8080/"
        },
        "id": "HokwIyYzm-m3",
        "outputId": "b09c009a-1af3-47fa-8c6d-581dd0722015"
      },
      "execution_count": 154,
      "outputs": [
        {
          "output_type": "execute_result",
          "data": {
            "text/plain": [
              "(1, 100)"
            ]
          },
          "metadata": {},
          "execution_count": 154
        }
      ]
    },
    {
      "cell_type": "code",
      "source": [
        "temp_input=list(x_input)\n",
        "temp_input=temp_input[0].tolist()"
      ],
      "metadata": {
        "id": "Q_67DDIOnjWU"
      },
      "execution_count": 156,
      "outputs": []
    },
    {
      "cell_type": "code",
      "source": [
        "temp_input"
      ],
      "metadata": {
        "colab": {
          "base_uri": "https://localhost:8080/"
        },
        "id": "697Xb9jDn5wi",
        "outputId": "2e3bd72d-d5e0-48e5-807a-2ea0dce2a4d0"
      },
      "execution_count": 157,
      "outputs": [
        {
          "output_type": "execute_result",
          "data": {
            "text/plain": [
              "[0.20693800876643703,\n",
              " 0.20753913587977452,\n",
              " 0.19053224796493418,\n",
              " 0.1771321227301189,\n",
              " 0.17868503443957418,\n",
              " 0.18164057608015027,\n",
              " 0.17397620538509706,\n",
              " 0.16874139010644956,\n",
              " 0.17257357545397617,\n",
              " 0.17074514715090788,\n",
              " 0.17815904821540385,\n",
              " 0.18091421415153408,\n",
              " 0.17194740137758296,\n",
              " 0.16804007514088914,\n",
              " 0.17019411396368184,\n",
              " 0.173425172197871,\n",
              " 0.16310582341891044,\n",
              " 0.15927363807138384,\n",
              " 0.15992485911083276,\n",
              " 0.16122730118973072,\n",
              " 0.16758922980588598,\n",
              " 0.16420788979336254,\n",
              " 0.1673638071383844,\n",
              " 0.17049467752035058,\n",
              " 0.17695679398872882,\n",
              " 0.18071383844708827,\n",
              " 0.17921102066374445,\n",
              " 0.18274264245460237,\n",
              " 0.1850219160926737,\n",
              " 0.18036318096430803,\n",
              " 0.18003757044458357,\n",
              " 0.17610519724483403,\n",
              " 0.17282404508453347,\n",
              " 0.17187226048841575,\n",
              " 0.1654101440200375,\n",
              " 0.1657107075767063,\n",
              " 0.1668127739511584,\n",
              " 0.16095178459611764,\n",
              " 0.15040701314965554,\n",
              " 0.1537382592360676,\n",
              " 0.15892298058860355,\n",
              " 0.16012523481527863,\n",
              " 0.16814026299311202,\n",
              " 0.17715716969317463,\n",
              " 0.17485284909204757,\n",
              " 0.1813149655604257,\n",
              " 0.18780212899185966,\n",
              " 0.19048215403882274,\n",
              " 0.1892798998121477,\n",
              " 0.19927363807138382,\n",
              " 0.19526612398246712,\n",
              " 0.20187852222917968,\n",
              " 0.20330619912335623,\n",
              " 0.2075641828428303,\n",
              " 0.2075140889167188,\n",
              " 0.21192235441452717,\n",
              " 0.20989355040701307,\n",
              " 0.211571696931747,\n",
              " 0.20821540388227922,\n",
              " 0.2077645585472761,\n",
              " 0.2092924232936756,\n",
              " 0.20671258609893545,\n",
              " 0.20816530995616772,\n",
              " 0.2113963681903569,\n",
              " 0.20686286787726987,\n",
              " 0.21685660613650587,\n",
              " 0.21410144020037564,\n",
              " 0.21898559799624295,\n",
              " 0.22259236067626798,\n",
              " 0.21625547902316838,\n",
              " 0.22008766437069505,\n",
              " 0.2282279273638071,\n",
              " 0.22860363180964305,\n",
              " 0.2272510958046336,\n",
              " 0.22304320601127103,\n",
              " 0.22567313713212267,\n",
              " 0.2203882279273638,\n",
              " 0.22001252348152783,\n",
              " 0.21730745147150904,\n",
              " 0.21592986850344392,\n",
              " 0.21618033813400123,\n",
              " 0.2172573575453976,\n",
              " 0.21462742642454596,\n",
              " 0.19737006887914832,\n",
              " 0.19388854101440195,\n",
              " 0.18802755165936125,\n",
              " 0.18619912335629302,\n",
              " 0.1971696931747025,\n",
              " 0.19611772072636185,\n",
              " 0.1987476518472135,\n",
              " 0.19724483406386972,\n",
              " 0.19807138384470874,\n",
              " 0.19233562930494674,\n",
              " 0.18995616781465247,\n",
              " 0.20485911083281144,\n",
              " 0.21219787100814025,\n",
              " 0.21803381340012518,\n",
              " 0.2212648716343143,\n",
              " 0.21956167814652466,\n",
              " 0.2187351283656856]"
            ]
          },
          "metadata": {},
          "execution_count": 157
        }
      ]
    },
    {
      "cell_type": "code",
      "source": [
        "#demostrate Prediction for the next 30 days\n",
        "from numpy import array\n",
        "\n",
        "lst_output=[]\n",
        "n_steps=100\n",
        "i=0\n",
        "while(i<30):\n",
        "\n",
        "  if(len(temp_input)>100):\n",
        "    #print(temp_input)\n",
        "    x_input=np.array(temp_input[1:])\n",
        "    print('{}day input{}'.format(i,x_input))\n",
        "    x_input=x_input.reshape(1,-1)\n",
        "    x_input = x_input.reshape((1, n_steps,1))\n",
        "    #print(x_input)\n",
        "    yhat = model.predict(x_input, verbose=0)\n",
        "    print(\"{} day output {}\".format(i,yhat))\n",
        "    temp_input.extend(yhat[0].tolist())\n",
        "    temp_input=temp_input[1:]\n",
        "    #print(temp_input)\n",
        "    lst_output.extend(yhat.tolist())\n",
        "    i=i+1\n",
        "  else:\n",
        "    x_input = x_input.reshape((1, n_steps,1))\n",
        "    yhat = model.predict(x_input, verbose=0)\n",
        "    print(yhat[0])\n",
        "    temp_input.extend(yhat[0].tolist())\n",
        "    print(len(temp_input))\n",
        "    lst_output.extend(yhat.tolist())\n",
        "    i=i+1\n",
        "\n",
        "print(lst_output)\n",
        "\n"
      ],
      "metadata": {
        "colab": {
          "base_uri": "https://localhost:8080/"
        },
        "id": "hIeB2wT0nwAp",
        "outputId": "814c4b95-f5a3-4768-9da9-3961e7ef051b"
      },
      "execution_count": 171,
      "outputs": [
        {
          "output_type": "stream",
          "name": "stdout",
          "text": [
            "0day input[0.21139637 0.20686287 0.21685661 0.21410144 0.2189856  0.22259236\n",
            " 0.21625548 0.22008766 0.22822793 0.22860363 0.2272511  0.22304321\n",
            " 0.22567314 0.22038823 0.22001252 0.21730745 0.21592987 0.21618034\n",
            " 0.21725736 0.21462743 0.19737007 0.19388854 0.18802755 0.18619912\n",
            " 0.19716969 0.19611772 0.19874765 0.19724483 0.19807138 0.19233563\n",
            " 0.18995617 0.20485911 0.21219787 0.21803381 0.22126487 0.21956168\n",
            " 0.21873513 0.20444235 0.20532337 0.20458832 0.20302321 0.20120326\n",
            " 0.19945563 0.19792891 0.19666274 0.19563536 0.19479181 0.19406061\n",
            " 0.19336584 0.19263631 0.19181238 0.190851   0.18972753 0.18843628\n",
            " 0.18698807 0.18540725 0.1837271  0.18198577 0.18022205 0.17847209\n",
            " 0.17676632 0.17512804 0.17357245 0.17210649 0.17072961 0.16943479\n",
            " 0.16821033 0.1670415  0.1659122  0.16480684 0.16371141 0.16261458\n",
            " 0.16150811 0.16038738 0.15925084 0.15809974 0.15693755 0.15576933\n",
            " 0.15460068 0.15343748 0.15228504 0.15114795 0.15002948 0.14893177\n",
            " 0.14785567 0.14680091 0.14576636 0.14475025 0.1437504  0.14276458\n",
            " 0.14179066 0.14082681 0.13987167 0.1389243  0.13798425 0.13705157\n",
            " 0.13612664 0.13521013 0.13430288 0.13340577]\n",
            "0 day output [[0.13251969]]\n",
            "1day input[0.20686287 0.21685661 0.21410144 0.2189856  0.22259236 0.21625548\n",
            " 0.22008766 0.22822793 0.22860363 0.2272511  0.22304321 0.22567314\n",
            " 0.22038823 0.22001252 0.21730745 0.21592987 0.21618034 0.21725736\n",
            " 0.21462743 0.19737007 0.19388854 0.18802755 0.18619912 0.19716969\n",
            " 0.19611772 0.19874765 0.19724483 0.19807138 0.19233563 0.18995617\n",
            " 0.20485911 0.21219787 0.21803381 0.22126487 0.21956168 0.21873513\n",
            " 0.20444235 0.20532337 0.20458832 0.20302321 0.20120326 0.19945563\n",
            " 0.19792891 0.19666274 0.19563536 0.19479181 0.19406061 0.19336584\n",
            " 0.19263631 0.19181238 0.190851   0.18972753 0.18843628 0.18698807\n",
            " 0.18540725 0.1837271  0.18198577 0.18022205 0.17847209 0.17676632\n",
            " 0.17512804 0.17357245 0.17210649 0.17072961 0.16943479 0.16821033\n",
            " 0.1670415  0.1659122  0.16480684 0.16371141 0.16261458 0.16150811\n",
            " 0.16038738 0.15925084 0.15809974 0.15693755 0.15576933 0.15460068\n",
            " 0.15343748 0.15228504 0.15114795 0.15002948 0.14893177 0.14785567\n",
            " 0.14680091 0.14576636 0.14475025 0.1437504  0.14276458 0.14179066\n",
            " 0.14082681 0.13987167 0.1389243  0.13798425 0.13705157 0.13612664\n",
            " 0.13521013 0.13430288 0.13340577 0.13251969]\n",
            "1 day output [[0.1316454]]\n",
            "2day input[0.21685661 0.21410144 0.2189856  0.22259236 0.21625548 0.22008766\n",
            " 0.22822793 0.22860363 0.2272511  0.22304321 0.22567314 0.22038823\n",
            " 0.22001252 0.21730745 0.21592987 0.21618034 0.21725736 0.21462743\n",
            " 0.19737007 0.19388854 0.18802755 0.18619912 0.19716969 0.19611772\n",
            " 0.19874765 0.19724483 0.19807138 0.19233563 0.18995617 0.20485911\n",
            " 0.21219787 0.21803381 0.22126487 0.21956168 0.21873513 0.20444235\n",
            " 0.20532337 0.20458832 0.20302321 0.20120326 0.19945563 0.19792891\n",
            " 0.19666274 0.19563536 0.19479181 0.19406061 0.19336584 0.19263631\n",
            " 0.19181238 0.190851   0.18972753 0.18843628 0.18698807 0.18540725\n",
            " 0.1837271  0.18198577 0.18022205 0.17847209 0.17676632 0.17512804\n",
            " 0.17357245 0.17210649 0.17072961 0.16943479 0.16821033 0.1670415\n",
            " 0.1659122  0.16480684 0.16371141 0.16261458 0.16150811 0.16038738\n",
            " 0.15925084 0.15809974 0.15693755 0.15576933 0.15460068 0.15343748\n",
            " 0.15228504 0.15114795 0.15002948 0.14893177 0.14785567 0.14680091\n",
            " 0.14576636 0.14475025 0.1437504  0.14276458 0.14179066 0.14082681\n",
            " 0.13987167 0.1389243  0.13798425 0.13705157 0.13612664 0.13521013\n",
            " 0.13430288 0.13340577 0.13251969 0.1316454 ]\n",
            "2 day output [[0.1307835]]\n",
            "3day input[0.21410144 0.2189856  0.22259236 0.21625548 0.22008766 0.22822793\n",
            " 0.22860363 0.2272511  0.22304321 0.22567314 0.22038823 0.22001252\n",
            " 0.21730745 0.21592987 0.21618034 0.21725736 0.21462743 0.19737007\n",
            " 0.19388854 0.18802755 0.18619912 0.19716969 0.19611772 0.19874765\n",
            " 0.19724483 0.19807138 0.19233563 0.18995617 0.20485911 0.21219787\n",
            " 0.21803381 0.22126487 0.21956168 0.21873513 0.20444235 0.20532337\n",
            " 0.20458832 0.20302321 0.20120326 0.19945563 0.19792891 0.19666274\n",
            " 0.19563536 0.19479181 0.19406061 0.19336584 0.19263631 0.19181238\n",
            " 0.190851   0.18972753 0.18843628 0.18698807 0.18540725 0.1837271\n",
            " 0.18198577 0.18022205 0.17847209 0.17676632 0.17512804 0.17357245\n",
            " 0.17210649 0.17072961 0.16943479 0.16821033 0.1670415  0.1659122\n",
            " 0.16480684 0.16371141 0.16261458 0.16150811 0.16038738 0.15925084\n",
            " 0.15809974 0.15693755 0.15576933 0.15460068 0.15343748 0.15228504\n",
            " 0.15114795 0.15002948 0.14893177 0.14785567 0.14680091 0.14576636\n",
            " 0.14475025 0.1437504  0.14276458 0.14179066 0.14082681 0.13987167\n",
            " 0.1389243  0.13798425 0.13705157 0.13612664 0.13521013 0.13430288\n",
            " 0.13340577 0.13251969 0.1316454  0.1307835 ]\n",
            "3 day output [[0.12993437]]\n",
            "4day input[0.2189856  0.22259236 0.21625548 0.22008766 0.22822793 0.22860363\n",
            " 0.2272511  0.22304321 0.22567314 0.22038823 0.22001252 0.21730745\n",
            " 0.21592987 0.21618034 0.21725736 0.21462743 0.19737007 0.19388854\n",
            " 0.18802755 0.18619912 0.19716969 0.19611772 0.19874765 0.19724483\n",
            " 0.19807138 0.19233563 0.18995617 0.20485911 0.21219787 0.21803381\n",
            " 0.22126487 0.21956168 0.21873513 0.20444235 0.20532337 0.20458832\n",
            " 0.20302321 0.20120326 0.19945563 0.19792891 0.19666274 0.19563536\n",
            " 0.19479181 0.19406061 0.19336584 0.19263631 0.19181238 0.190851\n",
            " 0.18972753 0.18843628 0.18698807 0.18540725 0.1837271  0.18198577\n",
            " 0.18022205 0.17847209 0.17676632 0.17512804 0.17357245 0.17210649\n",
            " 0.17072961 0.16943479 0.16821033 0.1670415  0.1659122  0.16480684\n",
            " 0.16371141 0.16261458 0.16150811 0.16038738 0.15925084 0.15809974\n",
            " 0.15693755 0.15576933 0.15460068 0.15343748 0.15228504 0.15114795\n",
            " 0.15002948 0.14893177 0.14785567 0.14680091 0.14576636 0.14475025\n",
            " 0.1437504  0.14276458 0.14179066 0.14082681 0.13987167 0.1389243\n",
            " 0.13798425 0.13705157 0.13612664 0.13521013 0.13430288 0.13340577\n",
            " 0.13251969 0.1316454  0.1307835  0.12993437]\n",
            "4 day output [[0.12909833]]\n",
            "5day input[0.22259236 0.21625548 0.22008766 0.22822793 0.22860363 0.2272511\n",
            " 0.22304321 0.22567314 0.22038823 0.22001252 0.21730745 0.21592987\n",
            " 0.21618034 0.21725736 0.21462743 0.19737007 0.19388854 0.18802755\n",
            " 0.18619912 0.19716969 0.19611772 0.19874765 0.19724483 0.19807138\n",
            " 0.19233563 0.18995617 0.20485911 0.21219787 0.21803381 0.22126487\n",
            " 0.21956168 0.21873513 0.20444235 0.20532337 0.20458832 0.20302321\n",
            " 0.20120326 0.19945563 0.19792891 0.19666274 0.19563536 0.19479181\n",
            " 0.19406061 0.19336584 0.19263631 0.19181238 0.190851   0.18972753\n",
            " 0.18843628 0.18698807 0.18540725 0.1837271  0.18198577 0.18022205\n",
            " 0.17847209 0.17676632 0.17512804 0.17357245 0.17210649 0.17072961\n",
            " 0.16943479 0.16821033 0.1670415  0.1659122  0.16480684 0.16371141\n",
            " 0.16261458 0.16150811 0.16038738 0.15925084 0.15809974 0.15693755\n",
            " 0.15576933 0.15460068 0.15343748 0.15228504 0.15114795 0.15002948\n",
            " 0.14893177 0.14785567 0.14680091 0.14576636 0.14475025 0.1437504\n",
            " 0.14276458 0.14179066 0.14082681 0.13987167 0.1389243  0.13798425\n",
            " 0.13705157 0.13612664 0.13521013 0.13430288 0.13340577 0.13251969\n",
            " 0.1316454  0.1307835  0.12993437 0.12909833]\n",
            "5 day output [[0.1282753]]\n",
            "6day input[0.21625548 0.22008766 0.22822793 0.22860363 0.2272511  0.22304321\n",
            " 0.22567314 0.22038823 0.22001252 0.21730745 0.21592987 0.21618034\n",
            " 0.21725736 0.21462743 0.19737007 0.19388854 0.18802755 0.18619912\n",
            " 0.19716969 0.19611772 0.19874765 0.19724483 0.19807138 0.19233563\n",
            " 0.18995617 0.20485911 0.21219787 0.21803381 0.22126487 0.21956168\n",
            " 0.21873513 0.20444235 0.20532337 0.20458832 0.20302321 0.20120326\n",
            " 0.19945563 0.19792891 0.19666274 0.19563536 0.19479181 0.19406061\n",
            " 0.19336584 0.19263631 0.19181238 0.190851   0.18972753 0.18843628\n",
            " 0.18698807 0.18540725 0.1837271  0.18198577 0.18022205 0.17847209\n",
            " 0.17676632 0.17512804 0.17357245 0.17210649 0.17072961 0.16943479\n",
            " 0.16821033 0.1670415  0.1659122  0.16480684 0.16371141 0.16261458\n",
            " 0.16150811 0.16038738 0.15925084 0.15809974 0.15693755 0.15576933\n",
            " 0.15460068 0.15343748 0.15228504 0.15114795 0.15002948 0.14893177\n",
            " 0.14785567 0.14680091 0.14576636 0.14475025 0.1437504  0.14276458\n",
            " 0.14179066 0.14082681 0.13987167 0.1389243  0.13798425 0.13705157\n",
            " 0.13612664 0.13521013 0.13430288 0.13340577 0.13251969 0.1316454\n",
            " 0.1307835  0.12993437 0.12909833 0.12827531]\n",
            "6 day output [[0.12746525]]\n",
            "7day input[0.22008766 0.22822793 0.22860363 0.2272511  0.22304321 0.22567314\n",
            " 0.22038823 0.22001252 0.21730745 0.21592987 0.21618034 0.21725736\n",
            " 0.21462743 0.19737007 0.19388854 0.18802755 0.18619912 0.19716969\n",
            " 0.19611772 0.19874765 0.19724483 0.19807138 0.19233563 0.18995617\n",
            " 0.20485911 0.21219787 0.21803381 0.22126487 0.21956168 0.21873513\n",
            " 0.20444235 0.20532337 0.20458832 0.20302321 0.20120326 0.19945563\n",
            " 0.19792891 0.19666274 0.19563536 0.19479181 0.19406061 0.19336584\n",
            " 0.19263631 0.19181238 0.190851   0.18972753 0.18843628 0.18698807\n",
            " 0.18540725 0.1837271  0.18198577 0.18022205 0.17847209 0.17676632\n",
            " 0.17512804 0.17357245 0.17210649 0.17072961 0.16943479 0.16821033\n",
            " 0.1670415  0.1659122  0.16480684 0.16371141 0.16261458 0.16150811\n",
            " 0.16038738 0.15925084 0.15809974 0.15693755 0.15576933 0.15460068\n",
            " 0.15343748 0.15228504 0.15114795 0.15002948 0.14893177 0.14785567\n",
            " 0.14680091 0.14576636 0.14475025 0.1437504  0.14276458 0.14179066\n",
            " 0.14082681 0.13987167 0.1389243  0.13798425 0.13705157 0.13612664\n",
            " 0.13521013 0.13430288 0.13340577 0.13251969 0.1316454  0.1307835\n",
            " 0.12993437 0.12909833 0.12827531 0.12746525]\n",
            "7 day output [[0.12666783]]\n",
            "8day input[0.22822793 0.22860363 0.2272511  0.22304321 0.22567314 0.22038823\n",
            " 0.22001252 0.21730745 0.21592987 0.21618034 0.21725736 0.21462743\n",
            " 0.19737007 0.19388854 0.18802755 0.18619912 0.19716969 0.19611772\n",
            " 0.19874765 0.19724483 0.19807138 0.19233563 0.18995617 0.20485911\n",
            " 0.21219787 0.21803381 0.22126487 0.21956168 0.21873513 0.20444235\n",
            " 0.20532337 0.20458832 0.20302321 0.20120326 0.19945563 0.19792891\n",
            " 0.19666274 0.19563536 0.19479181 0.19406061 0.19336584 0.19263631\n",
            " 0.19181238 0.190851   0.18972753 0.18843628 0.18698807 0.18540725\n",
            " 0.1837271  0.18198577 0.18022205 0.17847209 0.17676632 0.17512804\n",
            " 0.17357245 0.17210649 0.17072961 0.16943479 0.16821033 0.1670415\n",
            " 0.1659122  0.16480684 0.16371141 0.16261458 0.16150811 0.16038738\n",
            " 0.15925084 0.15809974 0.15693755 0.15576933 0.15460068 0.15343748\n",
            " 0.15228504 0.15114795 0.15002948 0.14893177 0.14785567 0.14680091\n",
            " 0.14576636 0.14475025 0.1437504  0.14276458 0.14179066 0.14082681\n",
            " 0.13987167 0.1389243  0.13798425 0.13705157 0.13612664 0.13521013\n",
            " 0.13430288 0.13340577 0.13251969 0.1316454  0.1307835  0.12993437\n",
            " 0.12909833 0.12827531 0.12746525 0.12666783]\n",
            "8 day output [[0.12588274]]\n",
            "9day input[0.22860363 0.2272511  0.22304321 0.22567314 0.22038823 0.22001252\n",
            " 0.21730745 0.21592987 0.21618034 0.21725736 0.21462743 0.19737007\n",
            " 0.19388854 0.18802755 0.18619912 0.19716969 0.19611772 0.19874765\n",
            " 0.19724483 0.19807138 0.19233563 0.18995617 0.20485911 0.21219787\n",
            " 0.21803381 0.22126487 0.21956168 0.21873513 0.20444235 0.20532337\n",
            " 0.20458832 0.20302321 0.20120326 0.19945563 0.19792891 0.19666274\n",
            " 0.19563536 0.19479181 0.19406061 0.19336584 0.19263631 0.19181238\n",
            " 0.190851   0.18972753 0.18843628 0.18698807 0.18540725 0.1837271\n",
            " 0.18198577 0.18022205 0.17847209 0.17676632 0.17512804 0.17357245\n",
            " 0.17210649 0.17072961 0.16943479 0.16821033 0.1670415  0.1659122\n",
            " 0.16480684 0.16371141 0.16261458 0.16150811 0.16038738 0.15925084\n",
            " 0.15809974 0.15693755 0.15576933 0.15460068 0.15343748 0.15228504\n",
            " 0.15114795 0.15002948 0.14893177 0.14785567 0.14680091 0.14576636\n",
            " 0.14475025 0.1437504  0.14276458 0.14179066 0.14082681 0.13987167\n",
            " 0.1389243  0.13798425 0.13705157 0.13612664 0.13521013 0.13430288\n",
            " 0.13340577 0.13251969 0.1316454  0.1307835  0.12993437 0.12909833\n",
            " 0.12827531 0.12746525 0.12666783 0.12588274]\n",
            "9 day output [[0.12510954]]\n",
            "10day input[0.2272511  0.22304321 0.22567314 0.22038823 0.22001252 0.21730745\n",
            " 0.21592987 0.21618034 0.21725736 0.21462743 0.19737007 0.19388854\n",
            " 0.18802755 0.18619912 0.19716969 0.19611772 0.19874765 0.19724483\n",
            " 0.19807138 0.19233563 0.18995617 0.20485911 0.21219787 0.21803381\n",
            " 0.22126487 0.21956168 0.21873513 0.20444235 0.20532337 0.20458832\n",
            " 0.20302321 0.20120326 0.19945563 0.19792891 0.19666274 0.19563536\n",
            " 0.19479181 0.19406061 0.19336584 0.19263631 0.19181238 0.190851\n",
            " 0.18972753 0.18843628 0.18698807 0.18540725 0.1837271  0.18198577\n",
            " 0.18022205 0.17847209 0.17676632 0.17512804 0.17357245 0.17210649\n",
            " 0.17072961 0.16943479 0.16821033 0.1670415  0.1659122  0.16480684\n",
            " 0.16371141 0.16261458 0.16150811 0.16038738 0.15925084 0.15809974\n",
            " 0.15693755 0.15576933 0.15460068 0.15343748 0.15228504 0.15114795\n",
            " 0.15002948 0.14893177 0.14785567 0.14680091 0.14576636 0.14475025\n",
            " 0.1437504  0.14276458 0.14179066 0.14082681 0.13987167 0.1389243\n",
            " 0.13798425 0.13705157 0.13612664 0.13521013 0.13430288 0.13340577\n",
            " 0.13251969 0.1316454  0.1307835  0.12993437 0.12909833 0.12827531\n",
            " 0.12746525 0.12666783 0.12588274 0.12510954]\n",
            "10 day output [[0.12434783]]\n",
            "11day input[0.22304321 0.22567314 0.22038823 0.22001252 0.21730745 0.21592987\n",
            " 0.21618034 0.21725736 0.21462743 0.19737007 0.19388854 0.18802755\n",
            " 0.18619912 0.19716969 0.19611772 0.19874765 0.19724483 0.19807138\n",
            " 0.19233563 0.18995617 0.20485911 0.21219787 0.21803381 0.22126487\n",
            " 0.21956168 0.21873513 0.20444235 0.20532337 0.20458832 0.20302321\n",
            " 0.20120326 0.19945563 0.19792891 0.19666274 0.19563536 0.19479181\n",
            " 0.19406061 0.19336584 0.19263631 0.19181238 0.190851   0.18972753\n",
            " 0.18843628 0.18698807 0.18540725 0.1837271  0.18198577 0.18022205\n",
            " 0.17847209 0.17676632 0.17512804 0.17357245 0.17210649 0.17072961\n",
            " 0.16943479 0.16821033 0.1670415  0.1659122  0.16480684 0.16371141\n",
            " 0.16261458 0.16150811 0.16038738 0.15925084 0.15809974 0.15693755\n",
            " 0.15576933 0.15460068 0.15343748 0.15228504 0.15114795 0.15002948\n",
            " 0.14893177 0.14785567 0.14680091 0.14576636 0.14475025 0.1437504\n",
            " 0.14276458 0.14179066 0.14082681 0.13987167 0.1389243  0.13798425\n",
            " 0.13705157 0.13612664 0.13521013 0.13430288 0.13340577 0.13251969\n",
            " 0.1316454  0.1307835  0.12993437 0.12909833 0.12827531 0.12746525\n",
            " 0.12666783 0.12588274 0.12510954 0.12434783]\n",
            "11 day output [[0.12359719]]\n",
            "12day input[0.22567314 0.22038823 0.22001252 0.21730745 0.21592987 0.21618034\n",
            " 0.21725736 0.21462743 0.19737007 0.19388854 0.18802755 0.18619912\n",
            " 0.19716969 0.19611772 0.19874765 0.19724483 0.19807138 0.19233563\n",
            " 0.18995617 0.20485911 0.21219787 0.21803381 0.22126487 0.21956168\n",
            " 0.21873513 0.20444235 0.20532337 0.20458832 0.20302321 0.20120326\n",
            " 0.19945563 0.19792891 0.19666274 0.19563536 0.19479181 0.19406061\n",
            " 0.19336584 0.19263631 0.19181238 0.190851   0.18972753 0.18843628\n",
            " 0.18698807 0.18540725 0.1837271  0.18198577 0.18022205 0.17847209\n",
            " 0.17676632 0.17512804 0.17357245 0.17210649 0.17072961 0.16943479\n",
            " 0.16821033 0.1670415  0.1659122  0.16480684 0.16371141 0.16261458\n",
            " 0.16150811 0.16038738 0.15925084 0.15809974 0.15693755 0.15576933\n",
            " 0.15460068 0.15343748 0.15228504 0.15114795 0.15002948 0.14893177\n",
            " 0.14785567 0.14680091 0.14576636 0.14475025 0.1437504  0.14276458\n",
            " 0.14179066 0.14082681 0.13987167 0.1389243  0.13798425 0.13705157\n",
            " 0.13612664 0.13521013 0.13430288 0.13340577 0.13251969 0.1316454\n",
            " 0.1307835  0.12993437 0.12909833 0.12827531 0.12746525 0.12666783\n",
            " 0.12588274 0.12510954 0.12434783 0.12359719]\n",
            "12 day output [[0.12285729]]\n",
            "13day input[0.22038823 0.22001252 0.21730745 0.21592987 0.21618034 0.21725736\n",
            " 0.21462743 0.19737007 0.19388854 0.18802755 0.18619912 0.19716969\n",
            " 0.19611772 0.19874765 0.19724483 0.19807138 0.19233563 0.18995617\n",
            " 0.20485911 0.21219787 0.21803381 0.22126487 0.21956168 0.21873513\n",
            " 0.20444235 0.20532337 0.20458832 0.20302321 0.20120326 0.19945563\n",
            " 0.19792891 0.19666274 0.19563536 0.19479181 0.19406061 0.19336584\n",
            " 0.19263631 0.19181238 0.190851   0.18972753 0.18843628 0.18698807\n",
            " 0.18540725 0.1837271  0.18198577 0.18022205 0.17847209 0.17676632\n",
            " 0.17512804 0.17357245 0.17210649 0.17072961 0.16943479 0.16821033\n",
            " 0.1670415  0.1659122  0.16480684 0.16371141 0.16261458 0.16150811\n",
            " 0.16038738 0.15925084 0.15809974 0.15693755 0.15576933 0.15460068\n",
            " 0.15343748 0.15228504 0.15114795 0.15002948 0.14893177 0.14785567\n",
            " 0.14680091 0.14576636 0.14475025 0.1437504  0.14276458 0.14179066\n",
            " 0.14082681 0.13987167 0.1389243  0.13798425 0.13705157 0.13612664\n",
            " 0.13521013 0.13430288 0.13340577 0.13251969 0.1316454  0.1307835\n",
            " 0.12993437 0.12909833 0.12827531 0.12746525 0.12666783 0.12588274\n",
            " 0.12510954 0.12434783 0.12359719 0.12285729]\n",
            "13 day output [[0.1221278]]\n",
            "14day input[0.22001252 0.21730745 0.21592987 0.21618034 0.21725736 0.21462743\n",
            " 0.19737007 0.19388854 0.18802755 0.18619912 0.19716969 0.19611772\n",
            " 0.19874765 0.19724483 0.19807138 0.19233563 0.18995617 0.20485911\n",
            " 0.21219787 0.21803381 0.22126487 0.21956168 0.21873513 0.20444235\n",
            " 0.20532337 0.20458832 0.20302321 0.20120326 0.19945563 0.19792891\n",
            " 0.19666274 0.19563536 0.19479181 0.19406061 0.19336584 0.19263631\n",
            " 0.19181238 0.190851   0.18972753 0.18843628 0.18698807 0.18540725\n",
            " 0.1837271  0.18198577 0.18022205 0.17847209 0.17676632 0.17512804\n",
            " 0.17357245 0.17210649 0.17072961 0.16943479 0.16821033 0.1670415\n",
            " 0.1659122  0.16480684 0.16371141 0.16261458 0.16150811 0.16038738\n",
            " 0.15925084 0.15809974 0.15693755 0.15576933 0.15460068 0.15343748\n",
            " 0.15228504 0.15114795 0.15002948 0.14893177 0.14785567 0.14680091\n",
            " 0.14576636 0.14475025 0.1437504  0.14276458 0.14179066 0.14082681\n",
            " 0.13987167 0.1389243  0.13798425 0.13705157 0.13612664 0.13521013\n",
            " 0.13430288 0.13340577 0.13251969 0.1316454  0.1307835  0.12993437\n",
            " 0.12909833 0.12827531 0.12746525 0.12666783 0.12588274 0.12510954\n",
            " 0.12434783 0.12359719 0.12285729 0.1221278 ]\n",
            "14 day output [[0.1214085]]\n",
            "15day input[0.21730745 0.21592987 0.21618034 0.21725736 0.21462743 0.19737007\n",
            " 0.19388854 0.18802755 0.18619912 0.19716969 0.19611772 0.19874765\n",
            " 0.19724483 0.19807138 0.19233563 0.18995617 0.20485911 0.21219787\n",
            " 0.21803381 0.22126487 0.21956168 0.21873513 0.20444235 0.20532337\n",
            " 0.20458832 0.20302321 0.20120326 0.19945563 0.19792891 0.19666274\n",
            " 0.19563536 0.19479181 0.19406061 0.19336584 0.19263631 0.19181238\n",
            " 0.190851   0.18972753 0.18843628 0.18698807 0.18540725 0.1837271\n",
            " 0.18198577 0.18022205 0.17847209 0.17676632 0.17512804 0.17357245\n",
            " 0.17210649 0.17072961 0.16943479 0.16821033 0.1670415  0.1659122\n",
            " 0.16480684 0.16371141 0.16261458 0.16150811 0.16038738 0.15925084\n",
            " 0.15809974 0.15693755 0.15576933 0.15460068 0.15343748 0.15228504\n",
            " 0.15114795 0.15002948 0.14893177 0.14785567 0.14680091 0.14576636\n",
            " 0.14475025 0.1437504  0.14276458 0.14179066 0.14082681 0.13987167\n",
            " 0.1389243  0.13798425 0.13705157 0.13612664 0.13521013 0.13430288\n",
            " 0.13340577 0.13251969 0.1316454  0.1307835  0.12993437 0.12909833\n",
            " 0.12827531 0.12746525 0.12666783 0.12588274 0.12510954 0.12434783\n",
            " 0.12359719 0.12285729 0.1221278  0.1214085 ]\n",
            "15 day output [[0.12069923]]\n",
            "16day input[0.21592987 0.21618034 0.21725736 0.21462743 0.19737007 0.19388854\n",
            " 0.18802755 0.18619912 0.19716969 0.19611772 0.19874765 0.19724483\n",
            " 0.19807138 0.19233563 0.18995617 0.20485911 0.21219787 0.21803381\n",
            " 0.22126487 0.21956168 0.21873513 0.20444235 0.20532337 0.20458832\n",
            " 0.20302321 0.20120326 0.19945563 0.19792891 0.19666274 0.19563536\n",
            " 0.19479181 0.19406061 0.19336584 0.19263631 0.19181238 0.190851\n",
            " 0.18972753 0.18843628 0.18698807 0.18540725 0.1837271  0.18198577\n",
            " 0.18022205 0.17847209 0.17676632 0.17512804 0.17357245 0.17210649\n",
            " 0.17072961 0.16943479 0.16821033 0.1670415  0.1659122  0.16480684\n",
            " 0.16371141 0.16261458 0.16150811 0.16038738 0.15925084 0.15809974\n",
            " 0.15693755 0.15576933 0.15460068 0.15343748 0.15228504 0.15114795\n",
            " 0.15002948 0.14893177 0.14785567 0.14680091 0.14576636 0.14475025\n",
            " 0.1437504  0.14276458 0.14179066 0.14082681 0.13987167 0.1389243\n",
            " 0.13798425 0.13705157 0.13612664 0.13521013 0.13430288 0.13340577\n",
            " 0.13251969 0.1316454  0.1307835  0.12993437 0.12909833 0.12827531\n",
            " 0.12746525 0.12666783 0.12588274 0.12510954 0.12434783 0.12359719\n",
            " 0.12285729 0.1221278  0.1214085  0.12069923]\n",
            "16 day output [[0.11999988]]\n",
            "17day input[0.21618034 0.21725736 0.21462743 0.19737007 0.19388854 0.18802755\n",
            " 0.18619912 0.19716969 0.19611772 0.19874765 0.19724483 0.19807138\n",
            " 0.19233563 0.18995617 0.20485911 0.21219787 0.21803381 0.22126487\n",
            " 0.21956168 0.21873513 0.20444235 0.20532337 0.20458832 0.20302321\n",
            " 0.20120326 0.19945563 0.19792891 0.19666274 0.19563536 0.19479181\n",
            " 0.19406061 0.19336584 0.19263631 0.19181238 0.190851   0.18972753\n",
            " 0.18843628 0.18698807 0.18540725 0.1837271  0.18198577 0.18022205\n",
            " 0.17847209 0.17676632 0.17512804 0.17357245 0.17210649 0.17072961\n",
            " 0.16943479 0.16821033 0.1670415  0.1659122  0.16480684 0.16371141\n",
            " 0.16261458 0.16150811 0.16038738 0.15925084 0.15809974 0.15693755\n",
            " 0.15576933 0.15460068 0.15343748 0.15228504 0.15114795 0.15002948\n",
            " 0.14893177 0.14785567 0.14680091 0.14576636 0.14475025 0.1437504\n",
            " 0.14276458 0.14179066 0.14082681 0.13987167 0.1389243  0.13798425\n",
            " 0.13705157 0.13612664 0.13521013 0.13430288 0.13340577 0.13251969\n",
            " 0.1316454  0.1307835  0.12993437 0.12909833 0.12827531 0.12746525\n",
            " 0.12666783 0.12588274 0.12510954 0.12434783 0.12359719 0.12285729\n",
            " 0.1221278  0.1214085  0.12069923 0.11999988]\n",
            "17 day output [[0.11931039]]\n",
            "18day input[0.21725736 0.21462743 0.19737007 0.19388854 0.18802755 0.18619912\n",
            " 0.19716969 0.19611772 0.19874765 0.19724483 0.19807138 0.19233563\n",
            " 0.18995617 0.20485911 0.21219787 0.21803381 0.22126487 0.21956168\n",
            " 0.21873513 0.20444235 0.20532337 0.20458832 0.20302321 0.20120326\n",
            " 0.19945563 0.19792891 0.19666274 0.19563536 0.19479181 0.19406061\n",
            " 0.19336584 0.19263631 0.19181238 0.190851   0.18972753 0.18843628\n",
            " 0.18698807 0.18540725 0.1837271  0.18198577 0.18022205 0.17847209\n",
            " 0.17676632 0.17512804 0.17357245 0.17210649 0.17072961 0.16943479\n",
            " 0.16821033 0.1670415  0.1659122  0.16480684 0.16371141 0.16261458\n",
            " 0.16150811 0.16038738 0.15925084 0.15809974 0.15693755 0.15576933\n",
            " 0.15460068 0.15343748 0.15228504 0.15114795 0.15002948 0.14893177\n",
            " 0.14785567 0.14680091 0.14576636 0.14475025 0.1437504  0.14276458\n",
            " 0.14179066 0.14082681 0.13987167 0.1389243  0.13798425 0.13705157\n",
            " 0.13612664 0.13521013 0.13430288 0.13340577 0.13251969 0.1316454\n",
            " 0.1307835  0.12993437 0.12909833 0.12827531 0.12746525 0.12666783\n",
            " 0.12588274 0.12510954 0.12434783 0.12359719 0.12285729 0.1221278\n",
            " 0.1214085  0.12069923 0.11999988 0.11931039]\n",
            "18 day output [[0.11863077]]\n",
            "19day input[0.21462743 0.19737007 0.19388854 0.18802755 0.18619912 0.19716969\n",
            " 0.19611772 0.19874765 0.19724483 0.19807138 0.19233563 0.18995617\n",
            " 0.20485911 0.21219787 0.21803381 0.22126487 0.21956168 0.21873513\n",
            " 0.20444235 0.20532337 0.20458832 0.20302321 0.20120326 0.19945563\n",
            " 0.19792891 0.19666274 0.19563536 0.19479181 0.19406061 0.19336584\n",
            " 0.19263631 0.19181238 0.190851   0.18972753 0.18843628 0.18698807\n",
            " 0.18540725 0.1837271  0.18198577 0.18022205 0.17847209 0.17676632\n",
            " 0.17512804 0.17357245 0.17210649 0.17072961 0.16943479 0.16821033\n",
            " 0.1670415  0.1659122  0.16480684 0.16371141 0.16261458 0.16150811\n",
            " 0.16038738 0.15925084 0.15809974 0.15693755 0.15576933 0.15460068\n",
            " 0.15343748 0.15228504 0.15114795 0.15002948 0.14893177 0.14785567\n",
            " 0.14680091 0.14576636 0.14475025 0.1437504  0.14276458 0.14179066\n",
            " 0.14082681 0.13987167 0.1389243  0.13798425 0.13705157 0.13612664\n",
            " 0.13521013 0.13430288 0.13340577 0.13251969 0.1316454  0.1307835\n",
            " 0.12993437 0.12909833 0.12827531 0.12746525 0.12666783 0.12588274\n",
            " 0.12510954 0.12434783 0.12359719 0.12285729 0.1221278  0.1214085\n",
            " 0.12069923 0.11999988 0.11931039 0.11863077]\n",
            "19 day output [[0.11796097]]\n",
            "20day input[0.19737007 0.19388854 0.18802755 0.18619912 0.19716969 0.19611772\n",
            " 0.19874765 0.19724483 0.19807138 0.19233563 0.18995617 0.20485911\n",
            " 0.21219787 0.21803381 0.22126487 0.21956168 0.21873513 0.20444235\n",
            " 0.20532337 0.20458832 0.20302321 0.20120326 0.19945563 0.19792891\n",
            " 0.19666274 0.19563536 0.19479181 0.19406061 0.19336584 0.19263631\n",
            " 0.19181238 0.190851   0.18972753 0.18843628 0.18698807 0.18540725\n",
            " 0.1837271  0.18198577 0.18022205 0.17847209 0.17676632 0.17512804\n",
            " 0.17357245 0.17210649 0.17072961 0.16943479 0.16821033 0.1670415\n",
            " 0.1659122  0.16480684 0.16371141 0.16261458 0.16150811 0.16038738\n",
            " 0.15925084 0.15809974 0.15693755 0.15576933 0.15460068 0.15343748\n",
            " 0.15228504 0.15114795 0.15002948 0.14893177 0.14785567 0.14680091\n",
            " 0.14576636 0.14475025 0.1437504  0.14276458 0.14179066 0.14082681\n",
            " 0.13987167 0.1389243  0.13798425 0.13705157 0.13612664 0.13521013\n",
            " 0.13430288 0.13340577 0.13251969 0.1316454  0.1307835  0.12993437\n",
            " 0.12909833 0.12827531 0.12746525 0.12666783 0.12588274 0.12510954\n",
            " 0.12434783 0.12359719 0.12285729 0.1221278  0.1214085  0.12069923\n",
            " 0.11999988 0.11931039 0.11863077 0.11796097]\n",
            "20 day output [[0.11730108]]\n",
            "21day input[0.19388854 0.18802755 0.18619912 0.19716969 0.19611772 0.19874765\n",
            " 0.19724483 0.19807138 0.19233563 0.18995617 0.20485911 0.21219787\n",
            " 0.21803381 0.22126487 0.21956168 0.21873513 0.20444235 0.20532337\n",
            " 0.20458832 0.20302321 0.20120326 0.19945563 0.19792891 0.19666274\n",
            " 0.19563536 0.19479181 0.19406061 0.19336584 0.19263631 0.19181238\n",
            " 0.190851   0.18972753 0.18843628 0.18698807 0.18540725 0.1837271\n",
            " 0.18198577 0.18022205 0.17847209 0.17676632 0.17512804 0.17357245\n",
            " 0.17210649 0.17072961 0.16943479 0.16821033 0.1670415  0.1659122\n",
            " 0.16480684 0.16371141 0.16261458 0.16150811 0.16038738 0.15925084\n",
            " 0.15809974 0.15693755 0.15576933 0.15460068 0.15343748 0.15228504\n",
            " 0.15114795 0.15002948 0.14893177 0.14785567 0.14680091 0.14576636\n",
            " 0.14475025 0.1437504  0.14276458 0.14179066 0.14082681 0.13987167\n",
            " 0.1389243  0.13798425 0.13705157 0.13612664 0.13521013 0.13430288\n",
            " 0.13340577 0.13251969 0.1316454  0.1307835  0.12993437 0.12909833\n",
            " 0.12827531 0.12746525 0.12666783 0.12588274 0.12510954 0.12434783\n",
            " 0.12359719 0.12285729 0.1221278  0.1214085  0.12069923 0.11999988\n",
            " 0.11931039 0.11863077 0.11796097 0.11730108]\n",
            "21 day output [[0.11665111]]\n",
            "22day input[0.18802755 0.18619912 0.19716969 0.19611772 0.19874765 0.19724483\n",
            " 0.19807138 0.19233563 0.18995617 0.20485911 0.21219787 0.21803381\n",
            " 0.22126487 0.21956168 0.21873513 0.20444235 0.20532337 0.20458832\n",
            " 0.20302321 0.20120326 0.19945563 0.19792891 0.19666274 0.19563536\n",
            " 0.19479181 0.19406061 0.19336584 0.19263631 0.19181238 0.190851\n",
            " 0.18972753 0.18843628 0.18698807 0.18540725 0.1837271  0.18198577\n",
            " 0.18022205 0.17847209 0.17676632 0.17512804 0.17357245 0.17210649\n",
            " 0.17072961 0.16943479 0.16821033 0.1670415  0.1659122  0.16480684\n",
            " 0.16371141 0.16261458 0.16150811 0.16038738 0.15925084 0.15809974\n",
            " 0.15693755 0.15576933 0.15460068 0.15343748 0.15228504 0.15114795\n",
            " 0.15002948 0.14893177 0.14785567 0.14680091 0.14576636 0.14475025\n",
            " 0.1437504  0.14276458 0.14179066 0.14082681 0.13987167 0.1389243\n",
            " 0.13798425 0.13705157 0.13612664 0.13521013 0.13430288 0.13340577\n",
            " 0.13251969 0.1316454  0.1307835  0.12993437 0.12909833 0.12827531\n",
            " 0.12746525 0.12666783 0.12588274 0.12510954 0.12434783 0.12359719\n",
            " 0.12285729 0.1221278  0.1214085  0.12069923 0.11999988 0.11931039\n",
            " 0.11863077 0.11796097 0.11730108 0.11665111]\n",
            "22 day output [[0.11601102]]\n",
            "23day input[0.18619912 0.19716969 0.19611772 0.19874765 0.19724483 0.19807138\n",
            " 0.19233563 0.18995617 0.20485911 0.21219787 0.21803381 0.22126487\n",
            " 0.21956168 0.21873513 0.20444235 0.20532337 0.20458832 0.20302321\n",
            " 0.20120326 0.19945563 0.19792891 0.19666274 0.19563536 0.19479181\n",
            " 0.19406061 0.19336584 0.19263631 0.19181238 0.190851   0.18972753\n",
            " 0.18843628 0.18698807 0.18540725 0.1837271  0.18198577 0.18022205\n",
            " 0.17847209 0.17676632 0.17512804 0.17357245 0.17210649 0.17072961\n",
            " 0.16943479 0.16821033 0.1670415  0.1659122  0.16480684 0.16371141\n",
            " 0.16261458 0.16150811 0.16038738 0.15925084 0.15809974 0.15693755\n",
            " 0.15576933 0.15460068 0.15343748 0.15228504 0.15114795 0.15002948\n",
            " 0.14893177 0.14785567 0.14680091 0.14576636 0.14475025 0.1437504\n",
            " 0.14276458 0.14179066 0.14082681 0.13987167 0.1389243  0.13798425\n",
            " 0.13705157 0.13612664 0.13521013 0.13430288 0.13340577 0.13251969\n",
            " 0.1316454  0.1307835  0.12993437 0.12909833 0.12827531 0.12746525\n",
            " 0.12666783 0.12588274 0.12510954 0.12434783 0.12359719 0.12285729\n",
            " 0.1221278  0.1214085  0.12069923 0.11999988 0.11931039 0.11863077\n",
            " 0.11796097 0.11730108 0.11665111 0.11601102]\n",
            "23 day output [[0.11538082]]\n",
            "24day input[0.19716969 0.19611772 0.19874765 0.19724483 0.19807138 0.19233563\n",
            " 0.18995617 0.20485911 0.21219787 0.21803381 0.22126487 0.21956168\n",
            " 0.21873513 0.20444235 0.20532337 0.20458832 0.20302321 0.20120326\n",
            " 0.19945563 0.19792891 0.19666274 0.19563536 0.19479181 0.19406061\n",
            " 0.19336584 0.19263631 0.19181238 0.190851   0.18972753 0.18843628\n",
            " 0.18698807 0.18540725 0.1837271  0.18198577 0.18022205 0.17847209\n",
            " 0.17676632 0.17512804 0.17357245 0.17210649 0.17072961 0.16943479\n",
            " 0.16821033 0.1670415  0.1659122  0.16480684 0.16371141 0.16261458\n",
            " 0.16150811 0.16038738 0.15925084 0.15809974 0.15693755 0.15576933\n",
            " 0.15460068 0.15343748 0.15228504 0.15114795 0.15002948 0.14893177\n",
            " 0.14785567 0.14680091 0.14576636 0.14475025 0.1437504  0.14276458\n",
            " 0.14179066 0.14082681 0.13987167 0.1389243  0.13798425 0.13705157\n",
            " 0.13612664 0.13521013 0.13430288 0.13340577 0.13251969 0.1316454\n",
            " 0.1307835  0.12993437 0.12909833 0.12827531 0.12746525 0.12666783\n",
            " 0.12588274 0.12510954 0.12434783 0.12359719 0.12285729 0.1221278\n",
            " 0.1214085  0.12069923 0.11999988 0.11931039 0.11863077 0.11796097\n",
            " 0.11730108 0.11665111 0.11601102 0.11538082]\n",
            "24 day output [[0.11476053]]\n",
            "25day input[0.19611772 0.19874765 0.19724483 0.19807138 0.19233563 0.18995617\n",
            " 0.20485911 0.21219787 0.21803381 0.22126487 0.21956168 0.21873513\n",
            " 0.20444235 0.20532337 0.20458832 0.20302321 0.20120326 0.19945563\n",
            " 0.19792891 0.19666274 0.19563536 0.19479181 0.19406061 0.19336584\n",
            " 0.19263631 0.19181238 0.190851   0.18972753 0.18843628 0.18698807\n",
            " 0.18540725 0.1837271  0.18198577 0.18022205 0.17847209 0.17676632\n",
            " 0.17512804 0.17357245 0.17210649 0.17072961 0.16943479 0.16821033\n",
            " 0.1670415  0.1659122  0.16480684 0.16371141 0.16261458 0.16150811\n",
            " 0.16038738 0.15925084 0.15809974 0.15693755 0.15576933 0.15460068\n",
            " 0.15343748 0.15228504 0.15114795 0.15002948 0.14893177 0.14785567\n",
            " 0.14680091 0.14576636 0.14475025 0.1437504  0.14276458 0.14179066\n",
            " 0.14082681 0.13987167 0.1389243  0.13798425 0.13705157 0.13612664\n",
            " 0.13521013 0.13430288 0.13340577 0.13251969 0.1316454  0.1307835\n",
            " 0.12993437 0.12909833 0.12827531 0.12746525 0.12666783 0.12588274\n",
            " 0.12510954 0.12434783 0.12359719 0.12285729 0.1221278  0.1214085\n",
            " 0.12069923 0.11999988 0.11931039 0.11863077 0.11796097 0.11730108\n",
            " 0.11665111 0.11601102 0.11538082 0.11476053]\n",
            "25 day output [[0.11415]]\n",
            "26day input[0.19874765 0.19724483 0.19807138 0.19233563 0.18995617 0.20485911\n",
            " 0.21219787 0.21803381 0.22126487 0.21956168 0.21873513 0.20444235\n",
            " 0.20532337 0.20458832 0.20302321 0.20120326 0.19945563 0.19792891\n",
            " 0.19666274 0.19563536 0.19479181 0.19406061 0.19336584 0.19263631\n",
            " 0.19181238 0.190851   0.18972753 0.18843628 0.18698807 0.18540725\n",
            " 0.1837271  0.18198577 0.18022205 0.17847209 0.17676632 0.17512804\n",
            " 0.17357245 0.17210649 0.17072961 0.16943479 0.16821033 0.1670415\n",
            " 0.1659122  0.16480684 0.16371141 0.16261458 0.16150811 0.16038738\n",
            " 0.15925084 0.15809974 0.15693755 0.15576933 0.15460068 0.15343748\n",
            " 0.15228504 0.15114795 0.15002948 0.14893177 0.14785567 0.14680091\n",
            " 0.14576636 0.14475025 0.1437504  0.14276458 0.14179066 0.14082681\n",
            " 0.13987167 0.1389243  0.13798425 0.13705157 0.13612664 0.13521013\n",
            " 0.13430288 0.13340577 0.13251969 0.1316454  0.1307835  0.12993437\n",
            " 0.12909833 0.12827531 0.12746525 0.12666783 0.12588274 0.12510954\n",
            " 0.12434783 0.12359719 0.12285729 0.1221278  0.1214085  0.12069923\n",
            " 0.11999988 0.11931039 0.11863077 0.11796097 0.11730108 0.11665111\n",
            " 0.11601102 0.11538082 0.11476053 0.11415   ]\n",
            "26 day output [[0.11354915]]\n",
            "27day input[0.19724483 0.19807138 0.19233563 0.18995617 0.20485911 0.21219787\n",
            " 0.21803381 0.22126487 0.21956168 0.21873513 0.20444235 0.20532337\n",
            " 0.20458832 0.20302321 0.20120326 0.19945563 0.19792891 0.19666274\n",
            " 0.19563536 0.19479181 0.19406061 0.19336584 0.19263631 0.19181238\n",
            " 0.190851   0.18972753 0.18843628 0.18698807 0.18540725 0.1837271\n",
            " 0.18198577 0.18022205 0.17847209 0.17676632 0.17512804 0.17357245\n",
            " 0.17210649 0.17072961 0.16943479 0.16821033 0.1670415  0.1659122\n",
            " 0.16480684 0.16371141 0.16261458 0.16150811 0.16038738 0.15925084\n",
            " 0.15809974 0.15693755 0.15576933 0.15460068 0.15343748 0.15228504\n",
            " 0.15114795 0.15002948 0.14893177 0.14785567 0.14680091 0.14576636\n",
            " 0.14475025 0.1437504  0.14276458 0.14179066 0.14082681 0.13987167\n",
            " 0.1389243  0.13798425 0.13705157 0.13612664 0.13521013 0.13430288\n",
            " 0.13340577 0.13251969 0.1316454  0.1307835  0.12993437 0.12909833\n",
            " 0.12827531 0.12746525 0.12666783 0.12588274 0.12510954 0.12434783\n",
            " 0.12359719 0.12285729 0.1221278  0.1214085  0.12069923 0.11999988\n",
            " 0.11931039 0.11863077 0.11796097 0.11730108 0.11665111 0.11601102\n",
            " 0.11538082 0.11476053 0.11415    0.11354915]\n",
            "27 day output [[0.11295793]]\n",
            "28day input[0.19807138 0.19233563 0.18995617 0.20485911 0.21219787 0.21803381\n",
            " 0.22126487 0.21956168 0.21873513 0.20444235 0.20532337 0.20458832\n",
            " 0.20302321 0.20120326 0.19945563 0.19792891 0.19666274 0.19563536\n",
            " 0.19479181 0.19406061 0.19336584 0.19263631 0.19181238 0.190851\n",
            " 0.18972753 0.18843628 0.18698807 0.18540725 0.1837271  0.18198577\n",
            " 0.18022205 0.17847209 0.17676632 0.17512804 0.17357245 0.17210649\n",
            " 0.17072961 0.16943479 0.16821033 0.1670415  0.1659122  0.16480684\n",
            " 0.16371141 0.16261458 0.16150811 0.16038738 0.15925084 0.15809974\n",
            " 0.15693755 0.15576933 0.15460068 0.15343748 0.15228504 0.15114795\n",
            " 0.15002948 0.14893177 0.14785567 0.14680091 0.14576636 0.14475025\n",
            " 0.1437504  0.14276458 0.14179066 0.14082681 0.13987167 0.1389243\n",
            " 0.13798425 0.13705157 0.13612664 0.13521013 0.13430288 0.13340577\n",
            " 0.13251969 0.1316454  0.1307835  0.12993437 0.12909833 0.12827531\n",
            " 0.12746525 0.12666783 0.12588274 0.12510954 0.12434783 0.12359719\n",
            " 0.12285729 0.1221278  0.1214085  0.12069923 0.11999988 0.11931039\n",
            " 0.11863077 0.11796097 0.11730108 0.11665111 0.11601102 0.11538082\n",
            " 0.11476053 0.11415    0.11354915 0.11295793]\n",
            "28 day output [[0.11237618]]\n",
            "29day input[0.19233563 0.18995617 0.20485911 0.21219787 0.21803381 0.22126487\n",
            " 0.21956168 0.21873513 0.20444235 0.20532337 0.20458832 0.20302321\n",
            " 0.20120326 0.19945563 0.19792891 0.19666274 0.19563536 0.19479181\n",
            " 0.19406061 0.19336584 0.19263631 0.19181238 0.190851   0.18972753\n",
            " 0.18843628 0.18698807 0.18540725 0.1837271  0.18198577 0.18022205\n",
            " 0.17847209 0.17676632 0.17512804 0.17357245 0.17210649 0.17072961\n",
            " 0.16943479 0.16821033 0.1670415  0.1659122  0.16480684 0.16371141\n",
            " 0.16261458 0.16150811 0.16038738 0.15925084 0.15809974 0.15693755\n",
            " 0.15576933 0.15460068 0.15343748 0.15228504 0.15114795 0.15002948\n",
            " 0.14893177 0.14785567 0.14680091 0.14576636 0.14475025 0.1437504\n",
            " 0.14276458 0.14179066 0.14082681 0.13987167 0.1389243  0.13798425\n",
            " 0.13705157 0.13612664 0.13521013 0.13430288 0.13340577 0.13251969\n",
            " 0.1316454  0.1307835  0.12993437 0.12909833 0.12827531 0.12746525\n",
            " 0.12666783 0.12588274 0.12510954 0.12434783 0.12359719 0.12285729\n",
            " 0.1221278  0.1214085  0.12069923 0.11999988 0.11931039 0.11863077\n",
            " 0.11796097 0.11730108 0.11665111 0.11601102 0.11538082 0.11476053\n",
            " 0.11415    0.11354915 0.11295793 0.11237618]\n",
            "29 day output [[0.1118038]]\n",
            "[[0.1325196921825409], [0.13164539635181427], [0.13078349828720093], [0.1299343705177307], [0.1290983259677887], [0.1282753050327301], [0.12746524810791016], [0.1266678273677826], [0.12588274478912354], [0.12510953843593597], [0.12434782832860947], [0.12359718978404999], [0.12285729497671127], [0.12212780117988586], [0.12140849977731705], [0.12069922685623169], [0.11999987810850143], [0.1193103939294815], [0.11863076686859131], [0.11796097457408905], [0.1173010766506195], [0.11665111035108566], [0.11601101607084274], [0.11538082361221313], [0.11476052552461624], [0.11414999514818192], [0.11354915052652359], [0.11295793205499649], [0.11237618327140808], [0.11180379986763]]\n"
          ]
        }
      ]
    },
    {
      "cell_type": "code",
      "source": [
        "day_new=np.arange(1,101)\n",
        "day_pred=np.arange(101,131)"
      ],
      "metadata": {
        "id": "X5QRTyERqFEz"
      },
      "execution_count": 172,
      "outputs": []
    },
    {
      "cell_type": "code",
      "source": [
        "len(df1)"
      ],
      "metadata": {
        "colab": {
          "base_uri": "https://localhost:8080/"
        },
        "id": "1gCO1zLkq6JG",
        "outputId": "9fb01d4f-2328-4563-b3fc-6b5f4753a1a1"
      },
      "execution_count": 173,
      "outputs": [
        {
          "output_type": "execute_result",
          "data": {
            "text/plain": [
              "1258"
            ]
          },
          "metadata": {},
          "execution_count": 173
        }
      ]
    },
    {
      "cell_type": "code",
      "source": [
        "df3=df1.tolist()\n",
        "df3.extend(lst_output)"
      ],
      "metadata": {
        "id": "dGiL49dNq9CE"
      },
      "execution_count": 174,
      "outputs": []
    },
    {
      "cell_type": "code",
      "source": [
        "# we use 1158 becasue we are using the previous 100 data points from the 30 days\n",
        "plt.plot(day_new,scaler.inverse_transform(df1[1158:]))\n",
        "plt.plot(day_pred,scaler.inverse_transform(lst_output))"
      ],
      "metadata": {
        "colab": {
          "base_uri": "https://localhost:8080/",
          "height": 449
        },
        "id": "6FiTFBVerE0N",
        "outputId": "9d356b0f-8667-490f-8917-73ce53e36aec"
      },
      "execution_count": 175,
      "outputs": [
        {
          "output_type": "execute_result",
          "data": {
            "text/plain": [
              "[<matplotlib.lines.Line2D at 0x7ab7410312a0>]"
            ]
          },
          "metadata": {},
          "execution_count": 175
        },
        {
          "output_type": "display_data",
          "data": {
            "text/plain": [
              "<Figure size 640x480 with 1 Axes>"
            ],
            "image/png": "[encoded data removed]"
          },
          "metadata": {}
        }
      ]
    },
    {
      "cell_type": "code",
      "source": [
        "df3=df1.tolist()\n",
        "df3.extend(lst_output)\n",
        "plt.plot(df3[1000:])"
      ],
      "metadata": {
        "colab": {
          "base_uri": "https://localhost:8080/",
          "height": 447
        },
        "id": "U7vcpqPPrRC3",
        "outputId": "1eb1be12-f2a3-4d93-97c1-13c8d0d8e38c"
      },
      "execution_count": 177,
      "outputs": [
        {
          "output_type": "execute_result",
          "data": {
            "text/plain": [
              "[<matplotlib.lines.Line2D at 0x7ab741b67790>]"
            ]
          },
          "metadata": {},
          "execution_count": 177
        },
        {
          "output_type": "display_data",
          "data": {
            "text/plain": [
              "<Figure size 640x480 with 1 Axes>"
            ],
            "image/png": "[encoded data removed]"
          },
          "metadata": {}
        }
      ]
    },
    {
      "cell_type": "code",
      "source": [],
      "metadata": {
        "id": "gYrl9nyrsHtf"
      },
      "execution_count": null,
      "outputs": []
    }
  ]
}